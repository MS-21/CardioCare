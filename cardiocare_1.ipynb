{
 "cells": [
  {
   "cell_type": "code",
   "execution_count": 2,
   "id": "e6330f53-1275-4e22-b86b-712c6db7d4fd",
   "metadata": {},
   "outputs": [],
   "source": [
    "import pandas as pd\n",
    "import numpy as np\n",
    "import seaborn as sns\n",
    "import matplotlib.pyplot as plt\n",
    "from sklearn.preprocessing import StandardScaler\n",
    "from sklearn.model_selection import train_test_split\n",
    "from sklearn.metrics import mean_squared_error,confusion_matrix,classification_report,accuracy_score\n",
    "from sklearn.metrics import roc_auc_score\n",
    "from sklearn.linear_model import SGDClassifier\n",
    "from sklearn.ensemble import HistGradientBoostingClassifier, HistGradientBoostingRegressor\n",
    "from sklearn.ensemble import HistGradientBoostingClassifier\n",
    "from sklearn.linear_model import LogisticRegression\n",
    "from sklearn.ensemble import RandomForestClassifier"
   ]
  },
  {
   "cell_type": "code",
   "execution_count": 3,
   "id": "17a2cfb3-74d4-453b-9388-c83075b59eac",
   "metadata": {},
   "outputs": [],
   "source": [
    "cardio_data=pd.read_excel('cardiocare.xlsx')"
   ]
  },
  {
   "cell_type": "code",
   "execution_count": 4,
   "id": "438e27fd-0362-4b95-b1b3-16b0242f92c4",
   "metadata": {},
   "outputs": [
    {
     "data": {
      "text/html": [
       "<div>\n",
       "<style scoped>\n",
       "    .dataframe tbody tr th:only-of-type {\n",
       "        vertical-align: middle;\n",
       "    }\n",
       "\n",
       "    .dataframe tbody tr th {\n",
       "        vertical-align: top;\n",
       "    }\n",
       "\n",
       "    .dataframe thead th {\n",
       "        text-align: right;\n",
       "    }\n",
       "</style>\n",
       "<table border=\"1\" class=\"dataframe\">\n",
       "  <thead>\n",
       "    <tr style=\"text-align: right;\">\n",
       "      <th></th>\n",
       "      <th>id</th>\n",
       "      <th>age</th>\n",
       "      <th>gender</th>\n",
       "      <th>height</th>\n",
       "      <th>weight</th>\n",
       "      <th>ap_hi</th>\n",
       "      <th>ap_lo</th>\n",
       "      <th>cholesterol</th>\n",
       "      <th>glucose</th>\n",
       "      <th>smoke</th>\n",
       "      <th>alcohol</th>\n",
       "      <th>thalach</th>\n",
       "      <th>oldpeak</th>\n",
       "      <th>cp</th>\n",
       "      <th>restcg</th>\n",
       "      <th>exang</th>\n",
       "      <th>active</th>\n",
       "      <th>cardio</th>\n",
       "      <th>Unnamed: 18</th>\n",
       "    </tr>\n",
       "  </thead>\n",
       "  <tbody>\n",
       "    <tr>\n",
       "      <th>0</th>\n",
       "      <td>0</td>\n",
       "      <td>18393</td>\n",
       "      <td>2</td>\n",
       "      <td>168</td>\n",
       "      <td>62.0</td>\n",
       "      <td>110</td>\n",
       "      <td>80</td>\n",
       "      <td>1</td>\n",
       "      <td>1</td>\n",
       "      <td>0</td>\n",
       "      <td>0</td>\n",
       "      <td>?</td>\n",
       "      <td>?</td>\n",
       "      <td>?</td>\n",
       "      <td>?</td>\n",
       "      <td>?</td>\n",
       "      <td>1</td>\n",
       "      <td>0</td>\n",
       "      <td>NaN</td>\n",
       "    </tr>\n",
       "    <tr>\n",
       "      <th>1</th>\n",
       "      <td>1</td>\n",
       "      <td>20228</td>\n",
       "      <td>1</td>\n",
       "      <td>156</td>\n",
       "      <td>85.0</td>\n",
       "      <td>140</td>\n",
       "      <td>90</td>\n",
       "      <td>3</td>\n",
       "      <td>1</td>\n",
       "      <td>0</td>\n",
       "      <td>0</td>\n",
       "      <td>?</td>\n",
       "      <td>?</td>\n",
       "      <td>?</td>\n",
       "      <td>?</td>\n",
       "      <td>?</td>\n",
       "      <td>1</td>\n",
       "      <td>1</td>\n",
       "      <td>NaN</td>\n",
       "    </tr>\n",
       "    <tr>\n",
       "      <th>2</th>\n",
       "      <td>2</td>\n",
       "      <td>18857</td>\n",
       "      <td>1</td>\n",
       "      <td>165</td>\n",
       "      <td>64.0</td>\n",
       "      <td>130</td>\n",
       "      <td>70</td>\n",
       "      <td>3</td>\n",
       "      <td>1</td>\n",
       "      <td>0</td>\n",
       "      <td>0</td>\n",
       "      <td>?</td>\n",
       "      <td>?</td>\n",
       "      <td>?</td>\n",
       "      <td>?</td>\n",
       "      <td>?</td>\n",
       "      <td>0</td>\n",
       "      <td>1</td>\n",
       "      <td>NaN</td>\n",
       "    </tr>\n",
       "    <tr>\n",
       "      <th>3</th>\n",
       "      <td>3</td>\n",
       "      <td>17623</td>\n",
       "      <td>2</td>\n",
       "      <td>169</td>\n",
       "      <td>82.0</td>\n",
       "      <td>150</td>\n",
       "      <td>100</td>\n",
       "      <td>1</td>\n",
       "      <td>1</td>\n",
       "      <td>0</td>\n",
       "      <td>0</td>\n",
       "      <td>?</td>\n",
       "      <td>?</td>\n",
       "      <td>?</td>\n",
       "      <td>?</td>\n",
       "      <td>?</td>\n",
       "      <td>1</td>\n",
       "      <td>1</td>\n",
       "      <td>NaN</td>\n",
       "    </tr>\n",
       "    <tr>\n",
       "      <th>4</th>\n",
       "      <td>4</td>\n",
       "      <td>17474</td>\n",
       "      <td>1</td>\n",
       "      <td>156</td>\n",
       "      <td>56.0</td>\n",
       "      <td>100</td>\n",
       "      <td>60</td>\n",
       "      <td>1</td>\n",
       "      <td>1</td>\n",
       "      <td>0</td>\n",
       "      <td>0</td>\n",
       "      <td>?</td>\n",
       "      <td>?</td>\n",
       "      <td>?</td>\n",
       "      <td>?</td>\n",
       "      <td>?</td>\n",
       "      <td>0</td>\n",
       "      <td>0</td>\n",
       "      <td>NaN</td>\n",
       "    </tr>\n",
       "    <tr>\n",
       "      <th>5</th>\n",
       "      <td>8</td>\n",
       "      <td>21914</td>\n",
       "      <td>1</td>\n",
       "      <td>151</td>\n",
       "      <td>67.0</td>\n",
       "      <td>120</td>\n",
       "      <td>80</td>\n",
       "      <td>2</td>\n",
       "      <td>2</td>\n",
       "      <td>0</td>\n",
       "      <td>0</td>\n",
       "      <td>?</td>\n",
       "      <td>?</td>\n",
       "      <td>?</td>\n",
       "      <td>?</td>\n",
       "      <td>?</td>\n",
       "      <td>0</td>\n",
       "      <td>0</td>\n",
       "      <td>NaN</td>\n",
       "    </tr>\n",
       "    <tr>\n",
       "      <th>6</th>\n",
       "      <td>9</td>\n",
       "      <td>22113</td>\n",
       "      <td>1</td>\n",
       "      <td>157</td>\n",
       "      <td>93.0</td>\n",
       "      <td>130</td>\n",
       "      <td>80</td>\n",
       "      <td>3</td>\n",
       "      <td>1</td>\n",
       "      <td>0</td>\n",
       "      <td>0</td>\n",
       "      <td>?</td>\n",
       "      <td>?</td>\n",
       "      <td>?</td>\n",
       "      <td>?</td>\n",
       "      <td>?</td>\n",
       "      <td>1</td>\n",
       "      <td>0</td>\n",
       "      <td>NaN</td>\n",
       "    </tr>\n",
       "    <tr>\n",
       "      <th>7</th>\n",
       "      <td>12</td>\n",
       "      <td>22584</td>\n",
       "      <td>2</td>\n",
       "      <td>178</td>\n",
       "      <td>95.0</td>\n",
       "      <td>130</td>\n",
       "      <td>90</td>\n",
       "      <td>3</td>\n",
       "      <td>3</td>\n",
       "      <td>0</td>\n",
       "      <td>0</td>\n",
       "      <td>?</td>\n",
       "      <td>?</td>\n",
       "      <td>?</td>\n",
       "      <td>?</td>\n",
       "      <td>?</td>\n",
       "      <td>1</td>\n",
       "      <td>1</td>\n",
       "      <td>NaN</td>\n",
       "    </tr>\n",
       "    <tr>\n",
       "      <th>8</th>\n",
       "      <td>13</td>\n",
       "      <td>17668</td>\n",
       "      <td>1</td>\n",
       "      <td>158</td>\n",
       "      <td>71.0</td>\n",
       "      <td>110</td>\n",
       "      <td>70</td>\n",
       "      <td>1</td>\n",
       "      <td>1</td>\n",
       "      <td>0</td>\n",
       "      <td>0</td>\n",
       "      <td>?</td>\n",
       "      <td>?</td>\n",
       "      <td>?</td>\n",
       "      <td>?</td>\n",
       "      <td>?</td>\n",
       "      <td>1</td>\n",
       "      <td>0</td>\n",
       "      <td>NaN</td>\n",
       "    </tr>\n",
       "    <tr>\n",
       "      <th>9</th>\n",
       "      <td>14</td>\n",
       "      <td>19834</td>\n",
       "      <td>1</td>\n",
       "      <td>164</td>\n",
       "      <td>68.0</td>\n",
       "      <td>110</td>\n",
       "      <td>60</td>\n",
       "      <td>1</td>\n",
       "      <td>1</td>\n",
       "      <td>0</td>\n",
       "      <td>0</td>\n",
       "      <td>?</td>\n",
       "      <td>?</td>\n",
       "      <td>?</td>\n",
       "      <td>?</td>\n",
       "      <td>?</td>\n",
       "      <td>0</td>\n",
       "      <td>0</td>\n",
       "      <td>NaN</td>\n",
       "    </tr>\n",
       "    <tr>\n",
       "      <th>10</th>\n",
       "      <td>15</td>\n",
       "      <td>22530</td>\n",
       "      <td>1</td>\n",
       "      <td>169</td>\n",
       "      <td>80.0</td>\n",
       "      <td>120</td>\n",
       "      <td>80</td>\n",
       "      <td>1</td>\n",
       "      <td>1</td>\n",
       "      <td>0</td>\n",
       "      <td>0</td>\n",
       "      <td>?</td>\n",
       "      <td>?</td>\n",
       "      <td>?</td>\n",
       "      <td>?</td>\n",
       "      <td>?</td>\n",
       "      <td>1</td>\n",
       "      <td>0</td>\n",
       "      <td>NaN</td>\n",
       "    </tr>\n",
       "    <tr>\n",
       "      <th>11</th>\n",
       "      <td>16</td>\n",
       "      <td>18815</td>\n",
       "      <td>2</td>\n",
       "      <td>173</td>\n",
       "      <td>60.0</td>\n",
       "      <td>120</td>\n",
       "      <td>80</td>\n",
       "      <td>1</td>\n",
       "      <td>1</td>\n",
       "      <td>0</td>\n",
       "      <td>0</td>\n",
       "      <td>?</td>\n",
       "      <td>?</td>\n",
       "      <td>?</td>\n",
       "      <td>?</td>\n",
       "      <td>?</td>\n",
       "      <td>1</td>\n",
       "      <td>0</td>\n",
       "      <td>NaN</td>\n",
       "    </tr>\n",
       "    <tr>\n",
       "      <th>12</th>\n",
       "      <td>18</td>\n",
       "      <td>14791</td>\n",
       "      <td>2</td>\n",
       "      <td>165</td>\n",
       "      <td>60.0</td>\n",
       "      <td>120</td>\n",
       "      <td>80</td>\n",
       "      <td>1</td>\n",
       "      <td>1</td>\n",
       "      <td>0</td>\n",
       "      <td>0</td>\n",
       "      <td>?</td>\n",
       "      <td>?</td>\n",
       "      <td>?</td>\n",
       "      <td>?</td>\n",
       "      <td>?</td>\n",
       "      <td>0</td>\n",
       "      <td>0</td>\n",
       "      <td>NaN</td>\n",
       "    </tr>\n",
       "    <tr>\n",
       "      <th>13</th>\n",
       "      <td>21</td>\n",
       "      <td>19809</td>\n",
       "      <td>1</td>\n",
       "      <td>158</td>\n",
       "      <td>78.0</td>\n",
       "      <td>110</td>\n",
       "      <td>70</td>\n",
       "      <td>1</td>\n",
       "      <td>1</td>\n",
       "      <td>0</td>\n",
       "      <td>0</td>\n",
       "      <td>?</td>\n",
       "      <td>?</td>\n",
       "      <td>?</td>\n",
       "      <td>?</td>\n",
       "      <td>?</td>\n",
       "      <td>1</td>\n",
       "      <td>0</td>\n",
       "      <td>NaN</td>\n",
       "    </tr>\n",
       "    <tr>\n",
       "      <th>14</th>\n",
       "      <td>23</td>\n",
       "      <td>14532</td>\n",
       "      <td>2</td>\n",
       "      <td>181</td>\n",
       "      <td>95.0</td>\n",
       "      <td>130</td>\n",
       "      <td>90</td>\n",
       "      <td>1</td>\n",
       "      <td>1</td>\n",
       "      <td>1</td>\n",
       "      <td>1</td>\n",
       "      <td>?</td>\n",
       "      <td>?</td>\n",
       "      <td>?</td>\n",
       "      <td>?</td>\n",
       "      <td>?</td>\n",
       "      <td>1</td>\n",
       "      <td>0</td>\n",
       "      <td>NaN</td>\n",
       "    </tr>\n",
       "    <tr>\n",
       "      <th>15</th>\n",
       "      <td>24</td>\n",
       "      <td>16782</td>\n",
       "      <td>2</td>\n",
       "      <td>172</td>\n",
       "      <td>112.0</td>\n",
       "      <td>120</td>\n",
       "      <td>80</td>\n",
       "      <td>1</td>\n",
       "      <td>1</td>\n",
       "      <td>0</td>\n",
       "      <td>0</td>\n",
       "      <td>?</td>\n",
       "      <td>?</td>\n",
       "      <td>?</td>\n",
       "      <td>?</td>\n",
       "      <td>?</td>\n",
       "      <td>0</td>\n",
       "      <td>1</td>\n",
       "      <td>NaN</td>\n",
       "    </tr>\n",
       "    <tr>\n",
       "      <th>16</th>\n",
       "      <td>25</td>\n",
       "      <td>21296</td>\n",
       "      <td>1</td>\n",
       "      <td>170</td>\n",
       "      <td>75.0</td>\n",
       "      <td>130</td>\n",
       "      <td>70</td>\n",
       "      <td>1</td>\n",
       "      <td>1</td>\n",
       "      <td>0</td>\n",
       "      <td>0</td>\n",
       "      <td>?</td>\n",
       "      <td>?</td>\n",
       "      <td>?</td>\n",
       "      <td>?</td>\n",
       "      <td>?</td>\n",
       "      <td>0</td>\n",
       "      <td>0</td>\n",
       "      <td>NaN</td>\n",
       "    </tr>\n",
       "    <tr>\n",
       "      <th>17</th>\n",
       "      <td>27</td>\n",
       "      <td>16747</td>\n",
       "      <td>1</td>\n",
       "      <td>158</td>\n",
       "      <td>52.0</td>\n",
       "      <td>110</td>\n",
       "      <td>70</td>\n",
       "      <td>1</td>\n",
       "      <td>3</td>\n",
       "      <td>0</td>\n",
       "      <td>0</td>\n",
       "      <td>?</td>\n",
       "      <td>?</td>\n",
       "      <td>?</td>\n",
       "      <td>?</td>\n",
       "      <td>?</td>\n",
       "      <td>1</td>\n",
       "      <td>0</td>\n",
       "      <td>?</td>\n",
       "    </tr>\n",
       "    <tr>\n",
       "      <th>18</th>\n",
       "      <td>28</td>\n",
       "      <td>17482</td>\n",
       "      <td>1</td>\n",
       "      <td>154</td>\n",
       "      <td>68.0</td>\n",
       "      <td>100</td>\n",
       "      <td>70</td>\n",
       "      <td>1</td>\n",
       "      <td>1</td>\n",
       "      <td>0</td>\n",
       "      <td>0</td>\n",
       "      <td>?</td>\n",
       "      <td>?</td>\n",
       "      <td>?</td>\n",
       "      <td>?</td>\n",
       "      <td>?</td>\n",
       "      <td>0</td>\n",
       "      <td>0</td>\n",
       "      <td>NaN</td>\n",
       "    </tr>\n",
       "    <tr>\n",
       "      <th>19</th>\n",
       "      <td>29</td>\n",
       "      <td>21755</td>\n",
       "      <td>2</td>\n",
       "      <td>162</td>\n",
       "      <td>56.0</td>\n",
       "      <td>120</td>\n",
       "      <td>70</td>\n",
       "      <td>1</td>\n",
       "      <td>1</td>\n",
       "      <td>1</td>\n",
       "      <td>0</td>\n",
       "      <td>?</td>\n",
       "      <td>?</td>\n",
       "      <td>?</td>\n",
       "      <td>?</td>\n",
       "      <td>?</td>\n",
       "      <td>1</td>\n",
       "      <td>0</td>\n",
       "      <td>NaN</td>\n",
       "    </tr>\n",
       "  </tbody>\n",
       "</table>\n",
       "</div>"
      ],
      "text/plain": [
       "    id    age gender height weight ap_hi ap_lo cholesterol glucose smoke  \\\n",
       "0    0  18393      2    168   62.0   110    80           1       1     0   \n",
       "1    1  20228      1    156   85.0   140    90           3       1     0   \n",
       "2    2  18857      1    165   64.0   130    70           3       1     0   \n",
       "3    3  17623      2    169   82.0   150   100           1       1     0   \n",
       "4    4  17474      1    156   56.0   100    60           1       1     0   \n",
       "5    8  21914      1    151   67.0   120    80           2       2     0   \n",
       "6    9  22113      1    157   93.0   130    80           3       1     0   \n",
       "7   12  22584      2    178   95.0   130    90           3       3     0   \n",
       "8   13  17668      1    158   71.0   110    70           1       1     0   \n",
       "9   14  19834      1    164   68.0   110    60           1       1     0   \n",
       "10  15  22530      1    169   80.0   120    80           1       1     0   \n",
       "11  16  18815      2    173   60.0   120    80           1       1     0   \n",
       "12  18  14791      2    165   60.0   120    80           1       1     0   \n",
       "13  21  19809      1    158   78.0   110    70           1       1     0   \n",
       "14  23  14532      2    181   95.0   130    90           1       1     1   \n",
       "15  24  16782      2    172  112.0   120    80           1       1     0   \n",
       "16  25  21296      1    170   75.0   130    70           1       1     0   \n",
       "17  27  16747      1    158   52.0   110    70           1       3     0   \n",
       "18  28  17482      1    154   68.0   100    70           1       1     0   \n",
       "19  29  21755      2    162   56.0   120    70           1       1     1   \n",
       "\n",
       "   alcohol thalach oldpeak cp restcg exang active cardio Unnamed: 18  \n",
       "0        0       ?       ?  ?      ?     ?      1      0         NaN  \n",
       "1        0       ?       ?  ?      ?     ?      1      1         NaN  \n",
       "2        0       ?       ?  ?      ?     ?      0      1         NaN  \n",
       "3        0       ?       ?  ?      ?     ?      1      1         NaN  \n",
       "4        0       ?       ?  ?      ?     ?      0      0         NaN  \n",
       "5        0       ?       ?  ?      ?     ?      0      0         NaN  \n",
       "6        0       ?       ?  ?      ?     ?      1      0         NaN  \n",
       "7        0       ?       ?  ?      ?     ?      1      1         NaN  \n",
       "8        0       ?       ?  ?      ?     ?      1      0         NaN  \n",
       "9        0       ?       ?  ?      ?     ?      0      0         NaN  \n",
       "10       0       ?       ?  ?      ?     ?      1      0         NaN  \n",
       "11       0       ?       ?  ?      ?     ?      1      0         NaN  \n",
       "12       0       ?       ?  ?      ?     ?      0      0         NaN  \n",
       "13       0       ?       ?  ?      ?     ?      1      0         NaN  \n",
       "14       1       ?       ?  ?      ?     ?      1      0         NaN  \n",
       "15       0       ?       ?  ?      ?     ?      0      1         NaN  \n",
       "16       0       ?       ?  ?      ?     ?      0      0         NaN  \n",
       "17       0       ?       ?  ?      ?     ?      1      0           ?  \n",
       "18       0       ?       ?  ?      ?     ?      0      0         NaN  \n",
       "19       0       ?       ?  ?      ?     ?      1      0         NaN  "
      ]
     },
     "execution_count": 4,
     "metadata": {},
     "output_type": "execute_result"
    }
   ],
   "source": [
    "cardio_data.head(20)"
   ]
  },
  {
   "cell_type": "code",
   "execution_count": 5,
   "id": "df37ef47-8d13-47ea-b380-cd54db817289",
   "metadata": {},
   "outputs": [
    {
     "data": {
      "text/plain": [
       "(70295, 19)"
      ]
     },
     "execution_count": 5,
     "metadata": {},
     "output_type": "execute_result"
    }
   ],
   "source": [
    "cardio_data.shape"
   ]
  },
  {
   "cell_type": "code",
   "execution_count": 6,
   "id": "cc630fc9-d422-467d-a850-b5ee59e7a2d6",
   "metadata": {},
   "outputs": [
    {
     "data": {
      "text/html": [
       "<div>\n",
       "<style scoped>\n",
       "    .dataframe tbody tr th:only-of-type {\n",
       "        vertical-align: middle;\n",
       "    }\n",
       "\n",
       "    .dataframe tbody tr th {\n",
       "        vertical-align: top;\n",
       "    }\n",
       "\n",
       "    .dataframe thead th {\n",
       "        text-align: right;\n",
       "    }\n",
       "</style>\n",
       "<table border=\"1\" class=\"dataframe\">\n",
       "  <thead>\n",
       "    <tr style=\"text-align: right;\">\n",
       "      <th></th>\n",
       "      <th>id</th>\n",
       "      <th>age</th>\n",
       "      <th>gender</th>\n",
       "      <th>height</th>\n",
       "      <th>weight</th>\n",
       "      <th>ap_hi</th>\n",
       "      <th>ap_lo</th>\n",
       "      <th>cholesterol</th>\n",
       "      <th>glucose</th>\n",
       "      <th>smoke</th>\n",
       "      <th>alcohol</th>\n",
       "      <th>thalach</th>\n",
       "      <th>oldpeak</th>\n",
       "      <th>cp</th>\n",
       "      <th>restcg</th>\n",
       "      <th>exang</th>\n",
       "      <th>active</th>\n",
       "      <th>cardio</th>\n",
       "      <th>Unnamed: 18</th>\n",
       "    </tr>\n",
       "  </thead>\n",
       "  <tbody>\n",
       "    <tr>\n",
       "      <th>22362</th>\n",
       "      <td>31943</td>\n",
       "      <td>20305</td>\n",
       "      <td>1</td>\n",
       "      <td>160</td>\n",
       "      <td>83.0</td>\n",
       "      <td>120</td>\n",
       "      <td>80</td>\n",
       "      <td>1</td>\n",
       "      <td>1</td>\n",
       "      <td>0</td>\n",
       "      <td>0</td>\n",
       "      <td>?</td>\n",
       "      <td>?</td>\n",
       "      <td>?</td>\n",
       "      <td>?</td>\n",
       "      <td>?</td>\n",
       "      <td>1</td>\n",
       "      <td>0</td>\n",
       "      <td>NaN</td>\n",
       "    </tr>\n",
       "    <tr>\n",
       "      <th>37407</th>\n",
       "      <td>53417</td>\n",
       "      <td>18228</td>\n",
       "      <td>1</td>\n",
       "      <td>155</td>\n",
       "      <td>72.0</td>\n",
       "      <td>120</td>\n",
       "      <td>80</td>\n",
       "      <td>1</td>\n",
       "      <td>1</td>\n",
       "      <td>0</td>\n",
       "      <td>0</td>\n",
       "      <td>?</td>\n",
       "      <td>?</td>\n",
       "      <td>?</td>\n",
       "      <td>?</td>\n",
       "      <td>?</td>\n",
       "      <td>1</td>\n",
       "      <td>0</td>\n",
       "      <td>NaN</td>\n",
       "    </tr>\n",
       "    <tr>\n",
       "      <th>64183</th>\n",
       "      <td>91607</td>\n",
       "      <td>21266</td>\n",
       "      <td>1</td>\n",
       "      <td>156</td>\n",
       "      <td>55.0</td>\n",
       "      <td>120</td>\n",
       "      <td>80</td>\n",
       "      <td>1</td>\n",
       "      <td>1</td>\n",
       "      <td>0</td>\n",
       "      <td>0</td>\n",
       "      <td>?</td>\n",
       "      <td>?</td>\n",
       "      <td>?</td>\n",
       "      <td>?</td>\n",
       "      <td>?</td>\n",
       "      <td>1</td>\n",
       "      <td>0</td>\n",
       "      <td>NaN</td>\n",
       "    </tr>\n",
       "    <tr>\n",
       "      <th>14450</th>\n",
       "      <td>20649</td>\n",
       "      <td>23474</td>\n",
       "      <td>1</td>\n",
       "      <td>167</td>\n",
       "      <td>64.0</td>\n",
       "      <td>160</td>\n",
       "      <td>90</td>\n",
       "      <td>2</td>\n",
       "      <td>1</td>\n",
       "      <td>0</td>\n",
       "      <td>0</td>\n",
       "      <td>?</td>\n",
       "      <td>?</td>\n",
       "      <td>?</td>\n",
       "      <td>?</td>\n",
       "      <td>?</td>\n",
       "      <td>1</td>\n",
       "      <td>1</td>\n",
       "      <td>NaN</td>\n",
       "    </tr>\n",
       "    <tr>\n",
       "      <th>37243</th>\n",
       "      <td>53202</td>\n",
       "      <td>17422</td>\n",
       "      <td>1</td>\n",
       "      <td>163</td>\n",
       "      <td>118.0</td>\n",
       "      <td>160</td>\n",
       "      <td>100</td>\n",
       "      <td>1</td>\n",
       "      <td>1</td>\n",
       "      <td>0</td>\n",
       "      <td>0</td>\n",
       "      <td>?</td>\n",
       "      <td>?</td>\n",
       "      <td>?</td>\n",
       "      <td>?</td>\n",
       "      <td>?</td>\n",
       "      <td>0</td>\n",
       "      <td>0</td>\n",
       "      <td>NaN</td>\n",
       "    </tr>\n",
       "    <tr>\n",
       "      <th>2691</th>\n",
       "      <td>3796</td>\n",
       "      <td>22744</td>\n",
       "      <td>2</td>\n",
       "      <td>158</td>\n",
       "      <td>67.0</td>\n",
       "      <td>120</td>\n",
       "      <td>80</td>\n",
       "      <td>1</td>\n",
       "      <td>1</td>\n",
       "      <td>0</td>\n",
       "      <td>0</td>\n",
       "      <td>?</td>\n",
       "      <td>?</td>\n",
       "      <td>?</td>\n",
       "      <td>?</td>\n",
       "      <td>?</td>\n",
       "      <td>1</td>\n",
       "      <td>0</td>\n",
       "      <td>NaN</td>\n",
       "    </tr>\n",
       "    <tr>\n",
       "      <th>33353</th>\n",
       "      <td>47653</td>\n",
       "      <td>21668</td>\n",
       "      <td>2</td>\n",
       "      <td>162</td>\n",
       "      <td>64.0</td>\n",
       "      <td>140</td>\n",
       "      <td>70</td>\n",
       "      <td>1</td>\n",
       "      <td>1</td>\n",
       "      <td>0</td>\n",
       "      <td>0</td>\n",
       "      <td>?</td>\n",
       "      <td>?</td>\n",
       "      <td>?</td>\n",
       "      <td>?</td>\n",
       "      <td>?</td>\n",
       "      <td>1</td>\n",
       "      <td>0</td>\n",
       "      <td>NaN</td>\n",
       "    </tr>\n",
       "    <tr>\n",
       "      <th>60277</th>\n",
       "      <td>86064</td>\n",
       "      <td>20320</td>\n",
       "      <td>2</td>\n",
       "      <td>168</td>\n",
       "      <td>91.0</td>\n",
       "      <td>160</td>\n",
       "      <td>80</td>\n",
       "      <td>1</td>\n",
       "      <td>1</td>\n",
       "      <td>0</td>\n",
       "      <td>0</td>\n",
       "      <td>?</td>\n",
       "      <td>?</td>\n",
       "      <td>?</td>\n",
       "      <td>?</td>\n",
       "      <td>?</td>\n",
       "      <td>0</td>\n",
       "      <td>1</td>\n",
       "      <td>NaN</td>\n",
       "    </tr>\n",
       "    <tr>\n",
       "      <th>58399</th>\n",
       "      <td>83339</td>\n",
       "      <td>21956</td>\n",
       "      <td>2</td>\n",
       "      <td>172</td>\n",
       "      <td>68.0</td>\n",
       "      <td>110</td>\n",
       "      <td>70</td>\n",
       "      <td>3</td>\n",
       "      <td>3</td>\n",
       "      <td>0</td>\n",
       "      <td>0</td>\n",
       "      <td>?</td>\n",
       "      <td>?</td>\n",
       "      <td>?</td>\n",
       "      <td>?</td>\n",
       "      <td>?</td>\n",
       "      <td>1</td>\n",
       "      <td>0</td>\n",
       "      <td>NaN</td>\n",
       "    </tr>\n",
       "    <tr>\n",
       "      <th>29589</th>\n",
       "      <td>42303</td>\n",
       "      <td>18882</td>\n",
       "      <td>1</td>\n",
       "      <td>160</td>\n",
       "      <td>58.0</td>\n",
       "      <td>110</td>\n",
       "      <td>70</td>\n",
       "      <td>1</td>\n",
       "      <td>1</td>\n",
       "      <td>0</td>\n",
       "      <td>0</td>\n",
       "      <td>?</td>\n",
       "      <td>?</td>\n",
       "      <td>?</td>\n",
       "      <td>?</td>\n",
       "      <td>?</td>\n",
       "      <td>1</td>\n",
       "      <td>0</td>\n",
       "      <td>NaN</td>\n",
       "    </tr>\n",
       "    <tr>\n",
       "      <th>5360</th>\n",
       "      <td>7630</td>\n",
       "      <td>22731</td>\n",
       "      <td>1</td>\n",
       "      <td>151</td>\n",
       "      <td>68.0</td>\n",
       "      <td>150</td>\n",
       "      <td>1000</td>\n",
       "      <td>1</td>\n",
       "      <td>1</td>\n",
       "      <td>0</td>\n",
       "      <td>0</td>\n",
       "      <td>?</td>\n",
       "      <td>?</td>\n",
       "      <td>?</td>\n",
       "      <td>?</td>\n",
       "      <td>?</td>\n",
       "      <td>1</td>\n",
       "      <td>1</td>\n",
       "      <td>NaN</td>\n",
       "    </tr>\n",
       "    <tr>\n",
       "      <th>64056</th>\n",
       "      <td>91444</td>\n",
       "      <td>19717</td>\n",
       "      <td>1</td>\n",
       "      <td>154</td>\n",
       "      <td>85.0</td>\n",
       "      <td>120</td>\n",
       "      <td>80</td>\n",
       "      <td>2</td>\n",
       "      <td>2</td>\n",
       "      <td>0</td>\n",
       "      <td>1</td>\n",
       "      <td>?</td>\n",
       "      <td>?</td>\n",
       "      <td>?</td>\n",
       "      <td>?</td>\n",
       "      <td>?</td>\n",
       "      <td>1</td>\n",
       "      <td>0</td>\n",
       "      <td>NaN</td>\n",
       "    </tr>\n",
       "    <tr>\n",
       "      <th>8572</th>\n",
       "      <td>12236</td>\n",
       "      <td>19554</td>\n",
       "      <td>1</td>\n",
       "      <td>169</td>\n",
       "      <td>75.0</td>\n",
       "      <td>110</td>\n",
       "      <td>70</td>\n",
       "      <td>1</td>\n",
       "      <td>1</td>\n",
       "      <td>0</td>\n",
       "      <td>0</td>\n",
       "      <td>?</td>\n",
       "      <td>?</td>\n",
       "      <td>?</td>\n",
       "      <td>?</td>\n",
       "      <td>?</td>\n",
       "      <td>1</td>\n",
       "      <td>0</td>\n",
       "      <td>NaN</td>\n",
       "    </tr>\n",
       "    <tr>\n",
       "      <th>24695</th>\n",
       "      <td>35265</td>\n",
       "      <td>21039</td>\n",
       "      <td>1</td>\n",
       "      <td>158</td>\n",
       "      <td>57.0</td>\n",
       "      <td>120</td>\n",
       "      <td>80</td>\n",
       "      <td>1</td>\n",
       "      <td>1</td>\n",
       "      <td>0</td>\n",
       "      <td>0</td>\n",
       "      <td>?</td>\n",
       "      <td>?</td>\n",
       "      <td>?</td>\n",
       "      <td>?</td>\n",
       "      <td>?</td>\n",
       "      <td>1</td>\n",
       "      <td>0</td>\n",
       "      <td>NaN</td>\n",
       "    </tr>\n",
       "    <tr>\n",
       "      <th>42267</th>\n",
       "      <td>60390</td>\n",
       "      <td>19653</td>\n",
       "      <td>1</td>\n",
       "      <td>157</td>\n",
       "      <td>105.0</td>\n",
       "      <td>150</td>\n",
       "      <td>100</td>\n",
       "      <td>1</td>\n",
       "      <td>1</td>\n",
       "      <td>0</td>\n",
       "      <td>0</td>\n",
       "      <td>?</td>\n",
       "      <td>?</td>\n",
       "      <td>?</td>\n",
       "      <td>?</td>\n",
       "      <td>?</td>\n",
       "      <td>1</td>\n",
       "      <td>1</td>\n",
       "      <td>NaN</td>\n",
       "    </tr>\n",
       "  </tbody>\n",
       "</table>\n",
       "</div>"
      ],
      "text/plain": [
       "          id    age gender height weight ap_hi ap_lo cholesterol glucose  \\\n",
       "22362  31943  20305      1    160   83.0   120    80           1       1   \n",
       "37407  53417  18228      1    155   72.0   120    80           1       1   \n",
       "64183  91607  21266      1    156   55.0   120    80           1       1   \n",
       "14450  20649  23474      1    167   64.0   160    90           2       1   \n",
       "37243  53202  17422      1    163  118.0   160   100           1       1   \n",
       "2691    3796  22744      2    158   67.0   120    80           1       1   \n",
       "33353  47653  21668      2    162   64.0   140    70           1       1   \n",
       "60277  86064  20320      2    168   91.0   160    80           1       1   \n",
       "58399  83339  21956      2    172   68.0   110    70           3       3   \n",
       "29589  42303  18882      1    160   58.0   110    70           1       1   \n",
       "5360    7630  22731      1    151   68.0   150  1000           1       1   \n",
       "64056  91444  19717      1    154   85.0   120    80           2       2   \n",
       "8572   12236  19554      1    169   75.0   110    70           1       1   \n",
       "24695  35265  21039      1    158   57.0   120    80           1       1   \n",
       "42267  60390  19653      1    157  105.0   150   100           1       1   \n",
       "\n",
       "      smoke alcohol thalach oldpeak cp restcg exang active cardio Unnamed: 18  \n",
       "22362     0       0       ?       ?  ?      ?     ?      1      0         NaN  \n",
       "37407     0       0       ?       ?  ?      ?     ?      1      0         NaN  \n",
       "64183     0       0       ?       ?  ?      ?     ?      1      0         NaN  \n",
       "14450     0       0       ?       ?  ?      ?     ?      1      1         NaN  \n",
       "37243     0       0       ?       ?  ?      ?     ?      0      0         NaN  \n",
       "2691      0       0       ?       ?  ?      ?     ?      1      0         NaN  \n",
       "33353     0       0       ?       ?  ?      ?     ?      1      0         NaN  \n",
       "60277     0       0       ?       ?  ?      ?     ?      0      1         NaN  \n",
       "58399     0       0       ?       ?  ?      ?     ?      1      0         NaN  \n",
       "29589     0       0       ?       ?  ?      ?     ?      1      0         NaN  \n",
       "5360      0       0       ?       ?  ?      ?     ?      1      1         NaN  \n",
       "64056     0       1       ?       ?  ?      ?     ?      1      0         NaN  \n",
       "8572      0       0       ?       ?  ?      ?     ?      1      0         NaN  \n",
       "24695     0       0       ?       ?  ?      ?     ?      1      0         NaN  \n",
       "42267     0       0       ?       ?  ?      ?     ?      1      1         NaN  "
      ]
     },
     "execution_count": 6,
     "metadata": {},
     "output_type": "execute_result"
    }
   ],
   "source": [
    "cardio_data.sample(15)"
   ]
  },
  {
   "cell_type": "raw",
   "id": "5ae451be-7100-4cd9-b36a-1b4ddbe95d84",
   "metadata": {},
   "source": [
    "cardio_data=cardio_data.drop(70002)"
   ]
  },
  {
   "cell_type": "code",
   "execution_count": 7,
   "id": "4c6c1e48-dc48-4200-a536-edc2e8d0c935",
   "metadata": {},
   "outputs": [
    {
     "data": {
      "text/plain": [
       "Index(['id', 'age', 'gender', 'height', 'weight', 'ap_hi', 'ap_lo',\n",
       "       'cholesterol', 'glucose', 'smoke', 'alcohol', 'thalach', 'oldpeak',\n",
       "       'cp', 'restcg', 'exang', 'active', 'cardio', 'Unnamed: 18'],\n",
       "      dtype='object')"
      ]
     },
     "execution_count": 7,
     "metadata": {},
     "output_type": "execute_result"
    }
   ],
   "source": [
    "cardio_data.columns"
   ]
  },
  {
   "cell_type": "code",
   "execution_count": 8,
   "id": "799be12f-4b44-4f77-9dfc-98cea4cf3b1a",
   "metadata": {},
   "outputs": [],
   "source": [
    "cardio_data.drop(columns=['Unnamed: 18'], errors='ignore', inplace=True)"
   ]
  },
  {
   "cell_type": "code",
   "execution_count": 9,
   "id": "9d58be76-b59f-4c06-87c0-323721fe4368",
   "metadata": {},
   "outputs": [
    {
     "data": {
      "text/plain": [
       "Index(['id', 'age', 'gender', 'height', 'weight', 'ap_hi', 'ap_lo',\n",
       "       'cholesterol', 'glucose', 'smoke', 'alcohol', 'thalach', 'oldpeak',\n",
       "       'cp', 'restcg', 'exang', 'active', 'cardio'],\n",
       "      dtype='object')"
      ]
     },
     "execution_count": 9,
     "metadata": {},
     "output_type": "execute_result"
    }
   ],
   "source": [
    "cardio_data.columns"
   ]
  },
  {
   "cell_type": "code",
   "execution_count": 10,
   "id": "faf9e800-cbd9-4450-b72b-ca06cf223b4b",
   "metadata": {},
   "outputs": [
    {
     "data": {
      "text/plain": [
       "id               0\n",
       "age            294\n",
       "gender           0\n",
       "height           0\n",
       "weight           0\n",
       "ap_hi            0\n",
       "ap_lo            0\n",
       "cholesterol      0\n",
       "glucose          0\n",
       "smoke            0\n",
       "alcohol          0\n",
       "thalach          0\n",
       "oldpeak          0\n",
       "cp               0\n",
       "restcg           0\n",
       "exang            0\n",
       "active           0\n",
       "cardio           0\n",
       "dtype: int64"
      ]
     },
     "execution_count": 10,
     "metadata": {},
     "output_type": "execute_result"
    }
   ],
   "source": [
    "cardio_data.isna().sum()"
   ]
  },
  {
   "cell_type": "code",
   "execution_count": 11,
   "id": "03d4ed20-9213-4c79-bbb2-5ff7692f454e",
   "metadata": {},
   "outputs": [
    {
     "name": "stdout",
     "output_type": "stream",
     "text": [
      "<class 'pandas.core.frame.DataFrame'>\n",
      "RangeIndex: 70295 entries, 0 to 70294\n",
      "Data columns (total 18 columns):\n",
      " #   Column       Non-Null Count  Dtype \n",
      "---  ------       --------------  ----- \n",
      " 0   id           70295 non-null  object\n",
      " 1   age          70001 non-null  object\n",
      " 2   gender       70295 non-null  object\n",
      " 3   height       70295 non-null  object\n",
      " 4   weight       70295 non-null  object\n",
      " 5   ap_hi        70295 non-null  object\n",
      " 6   ap_lo        70295 non-null  object\n",
      " 7   cholesterol  70295 non-null  object\n",
      " 8   glucose      70295 non-null  object\n",
      " 9   smoke        70295 non-null  object\n",
      " 10  alcohol      70295 non-null  object\n",
      " 11  thalach      70295 non-null  object\n",
      " 12  oldpeak      70295 non-null  object\n",
      " 13  cp           70295 non-null  object\n",
      " 14  restcg       70295 non-null  object\n",
      " 15  exang        70295 non-null  object\n",
      " 16  active       70295 non-null  object\n",
      " 17  cardio       70295 non-null  object\n",
      "dtypes: object(18)\n",
      "memory usage: 9.7+ MB\n"
     ]
    }
   ],
   "source": [
    "cardio_data.info()"
   ]
  },
  {
   "cell_type": "code",
   "execution_count": 12,
   "id": "857ae147-0cad-4460-9ab8-4702806939c3",
   "metadata": {},
   "outputs": [
    {
     "data": {
      "text/plain": [
       "height\n",
       "165    5853\n",
       "160    5022\n",
       "170    4679\n",
       "168    4399\n",
       "164    3396\n",
       "       ... \n",
       "71        1\n",
       "76        1\n",
       "119       1\n",
       "97        1\n",
       "81        1\n",
       "Name: count, Length: 111, dtype: int64"
      ]
     },
     "execution_count": 12,
     "metadata": {},
     "output_type": "execute_result"
    }
   ],
   "source": [
    "cardio_data[\"height\"].value_counts()"
   ]
  },
  {
   "cell_type": "code",
   "execution_count": 13,
   "id": "93cabbfd-986d-4f5d-b11f-db93ab9f3a8c",
   "metadata": {},
   "outputs": [
    {
     "data": {
      "text/plain": [
       "weight\n",
       "65.0    3850\n",
       "70.0    3764\n",
       "68.0    2831\n",
       "75.0    2740\n",
       "60.0    2710\n",
       "        ... \n",
       "59.8       1\n",
       "55.6       1\n",
       "80.6       1\n",
       "90.7       1\n",
       "64.1       1\n",
       "Name: count, Length: 289, dtype: int64"
      ]
     },
     "execution_count": 13,
     "metadata": {},
     "output_type": "execute_result"
    }
   ],
   "source": [
    "cardio_data[\"weight\"].value_counts()"
   ]
  },
  {
   "cell_type": "code",
   "execution_count": 14,
   "id": "32f9b6e0-2bf6-4ce1-832c-50a0473cf636",
   "metadata": {},
   "outputs": [],
   "source": [
    "#since thalach ,oldpeak,cp,restcg,exang have majorly null values we choose to drop as we cannot replace approximately majority of data using mean,median or mode\n",
    "cardio_data.drop(columns=['id'], errors='ignore', inplace=True)\n",
    "cardio_data.drop(columns=['thalach'], errors='ignore', inplace=True)\n",
    "cardio_data.drop(columns=['oldpeak'], errors='ignore', inplace=True)\n",
    "cardio_data.drop(columns=['cp'], errors='ignore', inplace=True)\n",
    "cardio_data.drop(columns=['restcg'], errors='ignore', inplace=True)\n",
    "cardio_data.drop(columns=['exang'], errors='ignore', inplace=True)"
   ]
  },
  {
   "cell_type": "code",
   "execution_count": 15,
   "id": "7390980e-1991-4e58-bda7-a364d956ef03",
   "metadata": {},
   "outputs": [
    {
     "data": {
      "text/plain": [
       "Index(['age', 'gender', 'height', 'weight', 'ap_hi', 'ap_lo', 'cholesterol',\n",
       "       'glucose', 'smoke', 'alcohol', 'active', 'cardio'],\n",
       "      dtype='object')"
      ]
     },
     "execution_count": 15,
     "metadata": {},
     "output_type": "execute_result"
    }
   ],
   "source": [
    "cardio_data.columns"
   ]
  },
  {
   "cell_type": "code",
   "execution_count": 16,
   "id": "038a411c-3656-45e8-bab8-9f7dddf2f4d6",
   "metadata": {},
   "outputs": [
    {
     "name": "stdout",
     "output_type": "stream",
     "text": [
      "<class 'pandas.core.frame.DataFrame'>\n",
      "RangeIndex: 70295 entries, 0 to 70294\n",
      "Data columns (total 12 columns):\n",
      " #   Column       Non-Null Count  Dtype \n",
      "---  ------       --------------  ----- \n",
      " 0   age          70001 non-null  object\n",
      " 1   gender       70295 non-null  object\n",
      " 2   height       70295 non-null  object\n",
      " 3   weight       70295 non-null  object\n",
      " 4   ap_hi        70295 non-null  object\n",
      " 5   ap_lo        70295 non-null  object\n",
      " 6   cholesterol  70295 non-null  object\n",
      " 7   glucose      70295 non-null  object\n",
      " 8   smoke        70295 non-null  object\n",
      " 9   alcohol      70295 non-null  object\n",
      " 10  active       70295 non-null  object\n",
      " 11  cardio       70295 non-null  object\n",
      "dtypes: object(12)\n",
      "memory usage: 6.4+ MB\n"
     ]
    }
   ],
   "source": [
    "cardio_data.info()"
   ]
  },
  {
   "cell_type": "code",
   "execution_count": 17,
   "id": "c8fc2311-7873-44fc-9fee-c288d16eac03",
   "metadata": {},
   "outputs": [
    {
     "data": {
      "text/plain": [
       "age            294\n",
       "gender           0\n",
       "height           0\n",
       "weight           0\n",
       "ap_hi            0\n",
       "ap_lo            0\n",
       "cholesterol      0\n",
       "glucose          0\n",
       "smoke            0\n",
       "alcohol          0\n",
       "active           0\n",
       "cardio           0\n",
       "dtype: int64"
      ]
     },
     "execution_count": 17,
     "metadata": {},
     "output_type": "execute_result"
    }
   ],
   "source": [
    "cardio_data.isna().sum()"
   ]
  },
  {
   "cell_type": "code",
   "execution_count": 18,
   "id": "b14d8d25-b4de-4545-bb2c-be6e1ea588bd",
   "metadata": {},
   "outputs": [],
   "source": [
    "# feature engineering main : height and weight=bmi done\n",
    "# Dealing with null values:-\n",
    "# ht and wt have null values too.. done\n",
    "# age median daalna hai done \n",
    "# ap_hi null value treatment done\n",
    "# smoke alcohol active mode done"
   ]
  },
  {
   "cell_type": "code",
   "execution_count": 19,
   "id": "f3c8970e-714c-45ba-8bfa-916732fc980f",
   "metadata": {},
   "outputs": [
    {
     "data": {
      "text/plain": [
       "Index(['age', 'gender', 'height', 'weight', 'ap_hi', 'ap_lo', 'cholesterol',\n",
       "       'glucose', 'smoke', 'alcohol', 'active', 'cardio'],\n",
       "      dtype='object')"
      ]
     },
     "execution_count": 19,
     "metadata": {},
     "output_type": "execute_result"
    }
   ],
   "source": [
    "cardio_data.columns"
   ]
  },
  {
   "cell_type": "code",
   "execution_count": 20,
   "id": "1cf006eb-e2d4-4286-a619-46f0180bee99",
   "metadata": {},
   "outputs": [],
   "source": [
    "cardio_data['age'] = pd.to_numeric(cardio_data['age'], errors='coerce') \n",
    "cardio_data['gender'] = pd.to_numeric(cardio_data['gender'], errors='coerce') \n",
    "cardio_data['height'] = pd.to_numeric(cardio_data['height'], errors='coerce') \n",
    "cardio_data['weight'] = pd.to_numeric(cardio_data['weight'], errors='coerce') \n",
    "cardio_data['ap_hi'] = pd.to_numeric(cardio_data['ap_hi'], errors='coerce') \n",
    "cardio_data['ap_lo'] = pd.to_numeric(cardio_data['ap_lo'], errors='coerce') \n",
    "cardio_data['cholesterol'] = pd.to_numeric(cardio_data['cholesterol'], errors='coerce') \n",
    "cardio_data['glucose'] = pd.to_numeric(cardio_data['glucose'], errors='coerce') \n",
    "cardio_data['smoke'] = pd.to_numeric(cardio_data['smoke'], errors='coerce') \n",
    "cardio_data['alcohol'] = pd.to_numeric(cardio_data['alcohol'], errors='coerce') \n",
    "cardio_data['active'] = pd.to_numeric(cardio_data['active'], errors='coerce') \n",
    "cardio_data['cardio'] = pd.to_numeric(cardio_data['cardio'], errors='coerce') "
   ]
  },
  {
   "cell_type": "code",
   "execution_count": 21,
   "id": "decf1474-af7f-47b1-bbfa-4411845a31b2",
   "metadata": {},
   "outputs": [
    {
     "data": {
      "text/plain": [
       "age            float64\n",
       "gender         float64\n",
       "height         float64\n",
       "weight         float64\n",
       "ap_hi          float64\n",
       "ap_lo          float64\n",
       "cholesterol    float64\n",
       "glucose        float64\n",
       "smoke          float64\n",
       "alcohol        float64\n",
       "active         float64\n",
       "cardio         float64\n",
       "dtype: object"
      ]
     },
     "execution_count": 21,
     "metadata": {},
     "output_type": "execute_result"
    }
   ],
   "source": [
    "cardio_data.dtypes"
   ]
  },
  {
   "cell_type": "code",
   "execution_count": 22,
   "id": "9fa31183-dbc0-4f50-9c1a-24acd3e51c52",
   "metadata": {},
   "outputs": [
    {
     "data": {
      "text/plain": [
       "age            295\n",
       "gender           1\n",
       "height         295\n",
       "weight         295\n",
       "ap_hi          295\n",
       "ap_lo            1\n",
       "cholesterol     24\n",
       "glucose          9\n",
       "smoke          295\n",
       "alcohol        295\n",
       "active         295\n",
       "cardio           1\n",
       "dtype: int64"
      ]
     },
     "execution_count": 22,
     "metadata": {},
     "output_type": "execute_result"
    }
   ],
   "source": [
    "cardio_data.isna().sum()"
   ]
  },
  {
   "cell_type": "code",
   "execution_count": 23,
   "id": "04541c92-9150-4478-b578-4222b6e92bce",
   "metadata": {},
   "outputs": [
    {
     "name": "stdout",
     "output_type": "stream",
     "text": [
      "19703.0\n"
     ]
    }
   ],
   "source": [
    "median_age = cardio_data['age'].median()\n",
    "print(median_age)"
   ]
  },
  {
   "cell_type": "code",
   "execution_count": 24,
   "id": "84f3627f-e326-44ab-b096-3c4178fd9ae8",
   "metadata": {},
   "outputs": [],
   "source": [
    "cardio_data['age']=cardio_data['age'].fillna(median_age)"
   ]
  },
  {
   "cell_type": "code",
   "execution_count": 25,
   "id": "a3694953-87a9-4046-821e-145021a53b9e",
   "metadata": {},
   "outputs": [
    {
     "data": {
      "text/plain": [
       "age              0\n",
       "gender           1\n",
       "height         295\n",
       "weight         295\n",
       "ap_hi          295\n",
       "ap_lo            1\n",
       "cholesterol     24\n",
       "glucose          9\n",
       "smoke          295\n",
       "alcohol        295\n",
       "active         295\n",
       "cardio           1\n",
       "dtype: int64"
      ]
     },
     "execution_count": 25,
     "metadata": {},
     "output_type": "execute_result"
    }
   ],
   "source": [
    "cardio_data.isna().sum()"
   ]
  },
  {
   "cell_type": "code",
   "execution_count": 26,
   "id": "f65d861c-6746-4b5c-ae46-b67ea37c9c9e",
   "metadata": {},
   "outputs": [
    {
     "data": {
      "text/plain": [
       "age              0\n",
       "gender           1\n",
       "height         295\n",
       "weight         295\n",
       "ap_hi          295\n",
       "ap_lo            1\n",
       "cholesterol     24\n",
       "glucose          9\n",
       "smoke          295\n",
       "alcohol        295\n",
       "active         295\n",
       "cardio           1\n",
       "dtype: int64"
      ]
     },
     "execution_count": 26,
     "metadata": {},
     "output_type": "execute_result"
    }
   ],
   "source": [
    "cardio_data.isna().sum()"
   ]
  },
  {
   "cell_type": "code",
   "execution_count": 27,
   "id": "ee972617-6a3e-46de-8e9c-ea99ec3a1e26",
   "metadata": {},
   "outputs": [
    {
     "name": "stdout",
     "output_type": "stream",
     "text": [
      "age            float64\n",
      "gender         float64\n",
      "height         float64\n",
      "weight         float64\n",
      "ap_hi          float64\n",
      "ap_lo          float64\n",
      "cholesterol    float64\n",
      "glucose        float64\n",
      "smoke          float64\n",
      "alcohol        float64\n",
      "active         float64\n",
      "cardio         float64\n",
      "dtype: object\n"
     ]
    }
   ],
   "source": [
    "print(cardio_data.dtypes)"
   ]
  },
  {
   "cell_type": "code",
   "execution_count": 28,
   "id": "98f89c48-440a-42b0-a687-5f241c4b23e3",
   "metadata": {},
   "outputs": [],
   "source": [
    "mode_active = cardio_data['active'].mode()[0]\n",
    "mode_alcohol = cardio_data['alcohol'].mode()[0]\n",
    "mode_smoke = cardio_data['smoke'].mode()[0]\n",
    "cardio_data['active'] = cardio_data['active'].fillna(mode_active)\n",
    "cardio_data['alcohol'] = cardio_data['alcohol'].fillna(mode_alcohol)\n",
    "cardio_data['smoke'] = cardio_data['smoke'].fillna(mode_smoke)"
   ]
  },
  {
   "cell_type": "code",
   "execution_count": 29,
   "id": "81544810-c1fc-443c-a6c4-90a33ad7b4d3",
   "metadata": {
    "scrolled": true
   },
   "outputs": [
    {
     "data": {
      "text/plain": [
       "age              0\n",
       "gender           1\n",
       "height         295\n",
       "weight         295\n",
       "ap_hi          295\n",
       "ap_lo            1\n",
       "cholesterol     24\n",
       "glucose          9\n",
       "smoke            0\n",
       "alcohol          0\n",
       "active           0\n",
       "cardio           1\n",
       "dtype: int64"
      ]
     },
     "execution_count": 29,
     "metadata": {},
     "output_type": "execute_result"
    }
   ],
   "source": [
    "cardio_data.isna().sum()"
   ]
  },
  {
   "cell_type": "code",
   "execution_count": 30,
   "id": "c56bfefb-bc55-4a02-9c4b-90743b680526",
   "metadata": {},
   "outputs": [
    {
     "name": "stdout",
     "output_type": "stream",
     "text": [
      "<class 'pandas.core.frame.DataFrame'>\n",
      "RangeIndex: 70295 entries, 0 to 70294\n",
      "Data columns (total 12 columns):\n",
      " #   Column       Non-Null Count  Dtype  \n",
      "---  ------       --------------  -----  \n",
      " 0   age          70295 non-null  float64\n",
      " 1   gender       70294 non-null  float64\n",
      " 2   height       70000 non-null  float64\n",
      " 3   weight       70000 non-null  float64\n",
      " 4   ap_hi        70000 non-null  float64\n",
      " 5   ap_lo        70294 non-null  float64\n",
      " 6   cholesterol  70271 non-null  float64\n",
      " 7   glucose      70286 non-null  float64\n",
      " 8   smoke        70295 non-null  float64\n",
      " 9   alcohol      70295 non-null  float64\n",
      " 10  active       70295 non-null  float64\n",
      " 11  cardio       70294 non-null  float64\n",
      "dtypes: float64(12)\n",
      "memory usage: 6.4 MB\n"
     ]
    }
   ],
   "source": [
    "cardio_data.info()"
   ]
  },
  {
   "cell_type": "code",
   "execution_count": 31,
   "id": "7a4cacdc-42f9-4d47-a506-0063fd97af94",
   "metadata": {},
   "outputs": [
    {
     "name": "stdout",
     "output_type": "stream",
     "text": [
      "age            float64\n",
      "gender         float64\n",
      "height         float64\n",
      "weight         float64\n",
      "ap_hi          float64\n",
      "ap_lo          float64\n",
      "cholesterol    float64\n",
      "glucose        float64\n",
      "smoke          float64\n",
      "alcohol        float64\n",
      "active         float64\n",
      "cardio         float64\n",
      "dtype: object\n"
     ]
    }
   ],
   "source": [
    "print(cardio_data.dtypes)"
   ]
  },
  {
   "cell_type": "code",
   "execution_count": 32,
   "id": "6d24f897-5033-43ee-86b6-8caa29a465c1",
   "metadata": {},
   "outputs": [
    {
     "name": "stdout",
     "output_type": "stream",
     "text": [
      "120.0\n"
     ]
    }
   ],
   "source": [
    "#median for systolic_bp (ap_hi) since it is skewed and median is a better choice because it is less affected by outliers\n",
    "median_ap_hi = cardio_data['ap_hi'].median()\n",
    "print(median_ap_hi)"
   ]
  },
  {
   "cell_type": "code",
   "execution_count": 33,
   "id": "9ced201d-ea34-446d-a08e-9dc653c6ce1e",
   "metadata": {},
   "outputs": [
    {
     "data": {
      "text/plain": [
       "0        110.0\n",
       "1        140.0\n",
       "2        130.0\n",
       "3        150.0\n",
       "4        100.0\n",
       "         ...  \n",
       "70290    120.0\n",
       "70291    120.0\n",
       "70292    120.0\n",
       "70293    120.0\n",
       "70294    120.0\n",
       "Name: ap_hi, Length: 70295, dtype: float64"
      ]
     },
     "execution_count": 33,
     "metadata": {},
     "output_type": "execute_result"
    }
   ],
   "source": [
    "cardio_data['ap_hi'].fillna(median_ap_hi)"
   ]
  },
  {
   "cell_type": "code",
   "execution_count": 33,
   "id": "58291367-55f3-4c33-a9d0-516cdd3771f8",
   "metadata": {},
   "outputs": [
    {
     "data": {
      "text/plain": [
       "0        110.0\n",
       "1        140.0\n",
       "2        130.0\n",
       "3        150.0\n",
       "4        100.0\n",
       "         ...  \n",
       "70290    120.0\n",
       "70291    120.0\n",
       "70292    120.0\n",
       "70293    120.0\n",
       "70294    120.0\n",
       "Name: ap_hi, Length: 70295, dtype: float64"
      ]
     },
     "execution_count": 33,
     "metadata": {},
     "output_type": "execute_result"
    }
   ],
   "source": [
    "cardio_data['ap_hi'].fillna(median_ap_hi)"
   ]
  },
  {
   "cell_type": "code",
   "execution_count": 33,
   "id": "ba06ee44-4a08-44af-9b43-0c01d4a92662",
   "metadata": {},
   "outputs": [
    {
     "data": {
      "text/plain": [
       "0        110.0\n",
       "1        140.0\n",
       "2        130.0\n",
       "3        150.0\n",
       "4        100.0\n",
       "         ...  \n",
       "70290    120.0\n",
       "70291    120.0\n",
       "70292    120.0\n",
       "70293    120.0\n",
       "70294    120.0\n",
       "Name: ap_hi, Length: 70295, dtype: float64"
      ]
     },
     "execution_count": 33,
     "metadata": {},
     "output_type": "execute_result"
    }
   ],
   "source": [
    "cardio_data['ap_hi'].fillna(median_ap_hi)"
   ]
  },
  {
   "cell_type": "code",
   "execution_count": 34,
   "id": "91c57546-4b5f-4a32-9efc-e3175bc5f206",
   "metadata": {},
   "outputs": [
    {
     "data": {
      "text/plain": [
       "age            -0.308878\n",
       "gender          0.623739\n",
       "height         -0.642187\n",
       "weight          1.012070\n",
       "ap_hi          85.296214\n",
       "ap_lo          32.135367\n",
       "cholesterol    17.944609\n",
       "glucose         2.404521\n",
       "smoke           2.914008\n",
       "alcohol         3.966467\n",
       "active         -1.536061\n",
       "cardio          0.003528\n",
       "dtype: float64"
      ]
     },
     "execution_count": 34,
     "metadata": {},
     "output_type": "execute_result"
    }
   ],
   "source": [
    "cardio_data.skew()\n",
    "#ap_lo and ap_hi and cholesterol are two most skewed data"
   ]
  },
  {
   "cell_type": "code",
   "execution_count": 35,
   "id": "54c37700-d349-4881-a47c-61b5cf2e6331",
   "metadata": {},
   "outputs": [
    {
     "data": {
      "text/plain": [
       "(70295, 12)"
      ]
     },
     "execution_count": 35,
     "metadata": {},
     "output_type": "execute_result"
    }
   ],
   "source": [
    "cardio_data.shape"
   ]
  },
  {
   "cell_type": "code",
   "execution_count": 36,
   "id": "5d03bdc5-a6fd-4d83-b1dc-ce5ed88a2805",
   "metadata": {},
   "outputs": [
    {
     "name": "stdout",
     "output_type": "stream",
     "text": [
      "165.0\n"
     ]
    }
   ],
   "source": [
    "#median for height and weight since it is skewed and median is a better choice because it is less affected by outliers\n",
    "median_height = cardio_data['height'].median()\n",
    "print(median_height)"
   ]
  },
  {
   "cell_type": "code",
   "execution_count": 37,
   "id": "62f8035a-31b8-44c6-b575-7bb0a8aa4c0b",
   "metadata": {},
   "outputs": [
    {
     "data": {
      "text/plain": [
       "0        168.0\n",
       "1        156.0\n",
       "2        165.0\n",
       "3        169.0\n",
       "4        156.0\n",
       "         ...  \n",
       "70290    165.0\n",
       "70291    165.0\n",
       "70292    165.0\n",
       "70293    165.0\n",
       "70294    165.0\n",
       "Name: height, Length: 70295, dtype: float64"
      ]
     },
     "execution_count": 37,
     "metadata": {},
     "output_type": "execute_result"
    }
   ],
   "source": [
    "cardio_data['height'].fillna(median_height)"
   ]
  },
  {
   "cell_type": "code",
   "execution_count": 38,
   "id": "41cea2be-8bdc-4424-b857-e67173e7a9e1",
   "metadata": {},
   "outputs": [
    {
     "name": "stdout",
     "output_type": "stream",
     "text": [
      "72.0\n"
     ]
    }
   ],
   "source": [
    "median_weight = cardio_data['weight'].median()\n",
    "print(median_weight)"
   ]
  },
  {
   "cell_type": "code",
   "execution_count": 39,
   "id": "d084a99c-0e4e-4f36-b5e1-85aa143db513",
   "metadata": {},
   "outputs": [
    {
     "data": {
      "text/plain": [
       "0        62.0\n",
       "1        85.0\n",
       "2        64.0\n",
       "3        82.0\n",
       "4        56.0\n",
       "         ... \n",
       "70290    72.0\n",
       "70291    72.0\n",
       "70292    72.0\n",
       "70293    72.0\n",
       "70294    72.0\n",
       "Name: weight, Length: 70295, dtype: float64"
      ]
     },
     "execution_count": 39,
     "metadata": {},
     "output_type": "execute_result"
    }
   ],
   "source": [
    "cardio_data['weight'].fillna(median_weight)"
   ]
  },
  {
   "cell_type": "code",
   "execution_count": 40,
   "id": "55d927ea-ce72-4f34-91fb-fbb69b0f62df",
   "metadata": {},
   "outputs": [],
   "source": [
    "cardio_data['height'] = cardio_data['height'] / 100\n",
    "\n",
    "# Calculate BMI\n",
    "cardio_data['BMI'] = cardio_data['weight'] / (cardio_data['height'] ** 2)"
   ]
  },
  {
   "cell_type": "code",
   "execution_count": 41,
   "id": "7ed0e351-fa5b-45a7-b60b-5f2272432828",
   "metadata": {},
   "outputs": [
    {
     "data": {
      "text/plain": [
       "Index(['age', 'gender', 'height', 'weight', 'ap_hi', 'ap_lo', 'cholesterol',\n",
       "       'glucose', 'smoke', 'alcohol', 'active', 'cardio', 'BMI'],\n",
       "      dtype='object')"
      ]
     },
     "execution_count": 41,
     "metadata": {},
     "output_type": "execute_result"
    }
   ],
   "source": [
    "cardio_data.columns"
   ]
  },
  {
   "cell_type": "code",
   "execution_count": 42,
   "id": "b58f8a23-de03-4a62-8555-4ad225171d80",
   "metadata": {},
   "outputs": [],
   "source": [
    "cardio_data.drop(columns=['height'], errors='ignore', inplace=True)\n",
    "cardio_data.drop(columns=['weight'], errors='ignore', inplace=True)"
   ]
  },
  {
   "cell_type": "code",
   "execution_count": 43,
   "id": "0cc1d420-a62d-44f7-93e5-dc1ef0d61509",
   "metadata": {},
   "outputs": [
    {
     "data": {
      "text/plain": [
       "Index(['age', 'gender', 'ap_hi', 'ap_lo', 'cholesterol', 'glucose', 'smoke',\n",
       "       'alcohol', 'active', 'cardio', 'BMI'],\n",
       "      dtype='object')"
      ]
     },
     "execution_count": 43,
     "metadata": {},
     "output_type": "execute_result"
    }
   ],
   "source": [
    "cardio_data.columns"
   ]
  },
  {
   "cell_type": "code",
   "execution_count": 44,
   "id": "44d08b15-59b7-4071-961f-5d3235f20ab7",
   "metadata": {},
   "outputs": [
    {
     "name": "stdout",
     "output_type": "stream",
     "text": [
      "<class 'pandas.core.frame.DataFrame'>\n",
      "RangeIndex: 70295 entries, 0 to 70294\n",
      "Data columns (total 11 columns):\n",
      " #   Column       Non-Null Count  Dtype  \n",
      "---  ------       --------------  -----  \n",
      " 0   age          70295 non-null  float64\n",
      " 1   gender       70294 non-null  float64\n",
      " 2   ap_hi        70000 non-null  float64\n",
      " 3   ap_lo        70294 non-null  float64\n",
      " 4   cholesterol  70271 non-null  float64\n",
      " 5   glucose      70286 non-null  float64\n",
      " 6   smoke        70295 non-null  float64\n",
      " 7   alcohol      70295 non-null  float64\n",
      " 8   active       70295 non-null  float64\n",
      " 9   cardio       70294 non-null  float64\n",
      " 10  BMI          70000 non-null  float64\n",
      "dtypes: float64(11)\n",
      "memory usage: 5.9 MB\n"
     ]
    }
   ],
   "source": [
    "cardio_data.info()"
   ]
  },
  {
   "cell_type": "code",
   "execution_count": 45,
   "id": "038ea816-3548-428d-9e97-595325e0fb8f",
   "metadata": {},
   "outputs": [
    {
     "data": {
      "text/plain": [
       "age              0\n",
       "gender           1\n",
       "ap_hi          295\n",
       "ap_lo            1\n",
       "cholesterol     24\n",
       "glucose          9\n",
       "smoke            0\n",
       "alcohol          0\n",
       "active           0\n",
       "cardio           1\n",
       "BMI            295\n",
       "dtype: int64"
      ]
     },
     "execution_count": 45,
     "metadata": {},
     "output_type": "execute_result"
    }
   ],
   "source": [
    "cardio_data.isna().sum()"
   ]
  },
  {
   "cell_type": "code",
   "execution_count": 46,
   "id": "9961342c-2667-4195-af6c-3c5a7bf54b87",
   "metadata": {},
   "outputs": [
    {
     "name": "stdout",
     "output_type": "stream",
     "text": [
      "1.0\n"
     ]
    }
   ],
   "source": [
    "gender_mode = cardio_data['gender'].mode()[0]\n",
    "print(gender_mode)"
   ]
  },
  {
   "cell_type": "code",
   "execution_count": 47,
   "id": "07683c3e-1cec-41f3-b1f0-5520b2a89f48",
   "metadata": {},
   "outputs": [
    {
     "data": {
      "text/plain": [
       "0        2.0\n",
       "1        1.0\n",
       "2        1.0\n",
       "3        2.0\n",
       "4        1.0\n",
       "        ... \n",
       "70290    2.0\n",
       "70291    1.0\n",
       "70292    2.0\n",
       "70293    1.0\n",
       "70294    2.0\n",
       "Name: gender, Length: 70295, dtype: float64"
      ]
     },
     "execution_count": 47,
     "metadata": {},
     "output_type": "execute_result"
    }
   ],
   "source": [
    "cardio_data['gender'].fillna(gender_mode)"
   ]
  },
  {
   "cell_type": "code",
   "execution_count": 48,
   "id": "8e432889-13e0-43d2-b39e-4a9fb5871f88",
   "metadata": {},
   "outputs": [
    {
     "data": {
      "text/plain": [
       "age              0\n",
       "gender           1\n",
       "ap_hi          295\n",
       "ap_lo            1\n",
       "cholesterol     24\n",
       "glucose          9\n",
       "smoke            0\n",
       "alcohol          0\n",
       "active           0\n",
       "cardio           1\n",
       "BMI            295\n",
       "dtype: int64"
      ]
     },
     "execution_count": 48,
     "metadata": {},
     "output_type": "execute_result"
    }
   ],
   "source": [
    "cardio_data.isna().sum()"
   ]
  },
  {
   "cell_type": "code",
   "execution_count": 49,
   "id": "3a63b183-a055-4a01-95d0-0815db98b081",
   "metadata": {},
   "outputs": [
    {
     "name": "stdout",
     "output_type": "stream",
     "text": [
      "<class 'pandas.core.frame.DataFrame'>\n",
      "RangeIndex: 70295 entries, 0 to 70294\n",
      "Data columns (total 11 columns):\n",
      " #   Column       Non-Null Count  Dtype  \n",
      "---  ------       --------------  -----  \n",
      " 0   age          70295 non-null  float64\n",
      " 1   gender       70294 non-null  float64\n",
      " 2   ap_hi        70000 non-null  float64\n",
      " 3   ap_lo        70294 non-null  float64\n",
      " 4   cholesterol  70271 non-null  float64\n",
      " 5   glucose      70286 non-null  float64\n",
      " 6   smoke        70295 non-null  float64\n",
      " 7   alcohol      70295 non-null  float64\n",
      " 8   active       70295 non-null  float64\n",
      " 9   cardio       70294 non-null  float64\n",
      " 10  BMI          70000 non-null  float64\n",
      "dtypes: float64(11)\n",
      "memory usage: 5.9 MB\n"
     ]
    }
   ],
   "source": [
    "cardio_data.info()"
   ]
  },
  {
   "cell_type": "code",
   "execution_count": 50,
   "id": "ae1da8c9-b1c8-4ebb-9378-bbccb33e17d3",
   "metadata": {},
   "outputs": [
    {
     "data": {
      "text/plain": [
       "age            -0.308878\n",
       "gender          0.623739\n",
       "ap_hi          85.296214\n",
       "ap_lo          32.135367\n",
       "cholesterol    17.944609\n",
       "glucose         2.404521\n",
       "smoke           2.914008\n",
       "alcohol         3.966467\n",
       "active         -1.536061\n",
       "cardio          0.003528\n",
       "BMI             7.728427\n",
       "dtype: float64"
      ]
     },
     "execution_count": 50,
     "metadata": {},
     "output_type": "execute_result"
    }
   ],
   "source": [
    "cardio_data.skew()"
   ]
  },
  {
   "cell_type": "code",
   "execution_count": 51,
   "id": "9e9209ad-c5b8-4014-abfa-2805692241f9",
   "metadata": {},
   "outputs": [
    {
     "name": "stdout",
     "output_type": "stream",
     "text": [
      "<class 'pandas.core.frame.DataFrame'>\n",
      "RangeIndex: 70295 entries, 0 to 70294\n",
      "Data columns (total 11 columns):\n",
      " #   Column       Non-Null Count  Dtype  \n",
      "---  ------       --------------  -----  \n",
      " 0   age          70295 non-null  float64\n",
      " 1   gender       70294 non-null  float64\n",
      " 2   ap_hi        70000 non-null  float64\n",
      " 3   ap_lo        70294 non-null  float64\n",
      " 4   cholesterol  70271 non-null  float64\n",
      " 5   glucose      70286 non-null  float64\n",
      " 6   smoke        70295 non-null  float64\n",
      " 7   alcohol      70295 non-null  float64\n",
      " 8   active       70295 non-null  float64\n",
      " 9   cardio       70294 non-null  float64\n",
      " 10  BMI          70000 non-null  float64\n",
      "dtypes: float64(11)\n",
      "memory usage: 5.9 MB\n"
     ]
    }
   ],
   "source": [
    "cardio_data.info()"
   ]
  },
  {
   "cell_type": "code",
   "execution_count": 52,
   "id": "65ab6b2a-d525-48e1-b8b7-436d8cd4032b",
   "metadata": {},
   "outputs": [
    {
     "name": "stdout",
     "output_type": "stream",
     "text": [
      "295\n"
     ]
    }
   ],
   "source": [
    "# Calculate the median of the BMI column\n",
    "median_BMI = cardio_data['BMI'].median()\n",
    "\n",
    "# Fill NaN values in the BMI column with the median\n",
    "cardio_data['BMI'].fillna(median_BMI)\n",
    "\n",
    "# Verify if any NaN values remain\n",
    "print(cardio_data['BMI'].isnull().sum())"
   ]
  },
  {
   "cell_type": "code",
   "execution_count": 53,
   "id": "c2cfb3bd-d4d0-4523-bff2-afab8a7bdb59",
   "metadata": {},
   "outputs": [
    {
     "name": "stdout",
     "output_type": "stream",
     "text": [
      "<class 'pandas.core.frame.DataFrame'>\n",
      "RangeIndex: 70295 entries, 0 to 70294\n",
      "Data columns (total 11 columns):\n",
      " #   Column       Non-Null Count  Dtype  \n",
      "---  ------       --------------  -----  \n",
      " 0   age          70295 non-null  float64\n",
      " 1   gender       70294 non-null  float64\n",
      " 2   ap_hi        70000 non-null  float64\n",
      " 3   ap_lo        70294 non-null  float64\n",
      " 4   cholesterol  70271 non-null  float64\n",
      " 5   glucose      70286 non-null  float64\n",
      " 6   smoke        70295 non-null  float64\n",
      " 7   alcohol      70295 non-null  float64\n",
      " 8   active       70295 non-null  float64\n",
      " 9   cardio       70294 non-null  float64\n",
      " 10  BMI          70000 non-null  float64\n",
      "dtypes: float64(11)\n",
      "memory usage: 5.9 MB\n"
     ]
    }
   ],
   "source": [
    "cardio_data.info()"
   ]
  },
  {
   "cell_type": "code",
   "execution_count": 54,
   "id": "6c66f6f9-8a8a-4869-a6ba-beb3bfed7fb4",
   "metadata": {},
   "outputs": [
    {
     "data": {
      "text/plain": [
       "age              0\n",
       "gender           1\n",
       "ap_hi          295\n",
       "ap_lo            1\n",
       "cholesterol     24\n",
       "glucose          9\n",
       "smoke            0\n",
       "alcohol          0\n",
       "active           0\n",
       "cardio           1\n",
       "BMI            295\n",
       "dtype: int64"
      ]
     },
     "execution_count": 54,
     "metadata": {},
     "output_type": "execute_result"
    }
   ],
   "source": [
    "cardio_data.isna().sum()"
   ]
  },
  {
   "cell_type": "code",
   "execution_count": 55,
   "id": "0c177ef1-be0a-4298-a42a-b2ea1317f6a5",
   "metadata": {},
   "outputs": [
    {
     "data": {
      "text/plain": [
       "(70295, 11)"
      ]
     },
     "execution_count": 55,
     "metadata": {},
     "output_type": "execute_result"
    }
   ],
   "source": [
    "cardio_data.shape"
   ]
  },
  {
   "cell_type": "code",
   "execution_count": 56,
   "id": "be2bf80c-d69f-427e-b4fa-87d705cc799a",
   "metadata": {},
   "outputs": [
    {
     "name": "stdout",
     "output_type": "stream",
     "text": [
      "295\n"
     ]
    }
   ],
   "source": [
    "# Calculate the median of the BMI column\n",
    "median_BMI = cardio_data['BMI'].median()\n",
    "\n",
    "# Fill NaN values in the BMI column with the median\n",
    "cardio_data['BMI'].fillna(median_BMI)\n",
    "\n",
    "# Verify if any NaN values remain\n",
    "print(cardio_data['BMI'].isnull().sum())"
   ]
  },
  {
   "cell_type": "code",
   "execution_count": 57,
   "id": "212768f7-6862-4512-83ef-4ba4be6c5089",
   "metadata": {},
   "outputs": [
    {
     "data": {
      "text/plain": [
       "(70295, 11)"
      ]
     },
     "execution_count": 57,
     "metadata": {},
     "output_type": "execute_result"
    }
   ],
   "source": [
    "cardio_data.shape"
   ]
  },
  {
   "cell_type": "code",
   "execution_count": 58,
   "id": "da72cbed-f7dc-4968-a71d-5bdc284c10e8",
   "metadata": {},
   "outputs": [],
   "source": [
    "#sns.boxplot(x=cardio_data['ap_hi'])\n",
    "#plt.show()"
   ]
  },
  {
   "cell_type": "code",
   "execution_count": 59,
   "id": "fe92f990-032c-48e8-ad84-46aff58f7d06",
   "metadata": {},
   "outputs": [],
   "source": [
    "#cardio_data = cardio_data[cardio_data['ap_hi']<110]\n",
    "#cardio_data=cardio_data[cardio_data['ap_lo']<60]\n",
    "#when we try to adjust the skewness of the data,we end up loosing 95%+ of the data "
   ]
  },
  {
   "cell_type": "code",
   "execution_count": 60,
   "id": "21529c5f-744a-46b0-9f65-eb0b838d3c83",
   "metadata": {},
   "outputs": [
    {
     "name": "stdout",
     "output_type": "stream",
     "text": [
      "<class 'pandas.core.frame.DataFrame'>\n",
      "RangeIndex: 70295 entries, 0 to 70294\n",
      "Data columns (total 11 columns):\n",
      " #   Column       Non-Null Count  Dtype  \n",
      "---  ------       --------------  -----  \n",
      " 0   age          70295 non-null  float64\n",
      " 1   gender       70294 non-null  float64\n",
      " 2   ap_hi        70000 non-null  float64\n",
      " 3   ap_lo        70294 non-null  float64\n",
      " 4   cholesterol  70271 non-null  float64\n",
      " 5   glucose      70286 non-null  float64\n",
      " 6   smoke        70295 non-null  float64\n",
      " 7   alcohol      70295 non-null  float64\n",
      " 8   active       70295 non-null  float64\n",
      " 9   cardio       70294 non-null  float64\n",
      " 10  BMI          70000 non-null  float64\n",
      "dtypes: float64(11)\n",
      "memory usage: 5.9 MB\n"
     ]
    }
   ],
   "source": [
    "cardio_data.info()"
   ]
  },
  {
   "cell_type": "code",
   "execution_count": 61,
   "id": "bfacb2d2-a3ad-48d9-988c-2177eb48d8ca",
   "metadata": {},
   "outputs": [],
   "source": [
    "scaler = StandardScaler()\n",
    "X_train_scaled = scaler.fit_transform(cardio_data)"
   ]
  },
  {
   "cell_type": "code",
   "execution_count": 62,
   "id": "4cea3249-8866-45a9-909c-9231525f4909",
   "metadata": {},
   "outputs": [
    {
     "name": "stdout",
     "output_type": "stream",
     "text": [
      "age            19469.848382\n",
      "gender             1.351139\n",
      "ap_hi            128.817286\n",
      "ap_lo             96.230446\n",
      "cholesterol        2.328998\n",
      "glucose            1.225550\n",
      "smoke              0.087759\n",
      "alcohol            0.053546\n",
      "active             0.804552\n",
      "cardio             0.499118\n",
      "BMI               27.556513\n",
      "dtype: float64\n",
      "age            2462.115640\n",
      "gender            0.477330\n",
      "ap_hi           154.011419\n",
      "ap_lo           188.179208\n",
      "cholesterol      16.036215\n",
      "glucose           0.571294\n",
      "smoke             0.282946\n",
      "alcohol           0.225121\n",
      "active            0.396548\n",
      "cardio            0.500003\n",
      "BMI               6.091511\n",
      "dtype: float64\n"
     ]
    }
   ],
   "source": [
    "print(cardio_data.mean())\n",
    "print(cardio_data.std())"
   ]
  },
  {
   "cell_type": "code",
   "execution_count": 63,
   "id": "d1726809-3722-43a8-893a-78e794aa30e3",
   "metadata": {},
   "outputs": [
    {
     "data": {
      "text/plain": [
       "<Axes: ylabel='Frequency'>"
      ]
     },
     "execution_count": 63,
     "metadata": {},
     "output_type": "execute_result"
    },
    {
     "data": {
      "image/png": "[encoded data removed]",
      "text/plain": [
       "<Figure size 640x480 with 1 Axes>"
      ]
     },
     "metadata": {},
     "output_type": "display_data"
    }
   ],
   "source": [
    "cardio_data.plot.hist(bins=50)"
   ]
  },
  {
   "cell_type": "code",
   "execution_count": 64,
   "id": "d97b8808-6cef-48cf-845c-a0875e5120bc",
   "metadata": {},
   "outputs": [
    {
     "name": "stdout",
     "output_type": "stream",
     "text": [
      "<class 'pandas.core.frame.DataFrame'>\n",
      "RangeIndex: 70295 entries, 0 to 70294\n",
      "Data columns (total 11 columns):\n",
      " #   Column       Non-Null Count  Dtype  \n",
      "---  ------       --------------  -----  \n",
      " 0   age          70295 non-null  float64\n",
      " 1   gender       70294 non-null  float64\n",
      " 2   ap_hi        70000 non-null  float64\n",
      " 3   ap_lo        70294 non-null  float64\n",
      " 4   cholesterol  70271 non-null  float64\n",
      " 5   glucose      70286 non-null  float64\n",
      " 6   smoke        70295 non-null  float64\n",
      " 7   alcohol      70295 non-null  float64\n",
      " 8   active       70295 non-null  float64\n",
      " 9   cardio       70294 non-null  float64\n",
      " 10  BMI          70000 non-null  float64\n",
      "dtypes: float64(11)\n",
      "memory usage: 5.9 MB\n"
     ]
    }
   ],
   "source": [
    "cardio_data.info()"
   ]
  },
  {
   "cell_type": "code",
   "execution_count": 65,
   "id": "0d1d10c2-d777-4600-a044-3df8e5e0ad50",
   "metadata": {},
   "outputs": [
    {
     "data": {
      "image/png": "[encoded data removed]",
      "text/plain": [
       "<Figure size 1100x900 with 2 Axes>"
      ]
     },
     "metadata": {},
     "output_type": "display_data"
    }
   ],
   "source": [
    "corr = cardio_data.corr()\n",
    "\n",
    "mask = np.triu(np.ones_like(corr, dtype=bool))\n",
    "\n",
    "f, ax = plt.subplots(figsize=(11, 9))\n",
    "\n",
    "cmap = sns.diverging_palette(230, 20, as_cmap=True)\n",
    "\n",
    "sns.heatmap(corr, mask=mask, cmap=cmap, vmax=.3, center=0,\n",
    "            square=True, linewidths=.5, cbar_kws={\"shrink\": .5})\n",
    "\n",
    "plt.show()"
   ]
  },
  {
   "cell_type": "code",
   "execution_count": 66,
   "id": "2c206dd1-6fcf-4d68-95aa-c91368e1c5fd",
   "metadata": {},
   "outputs": [
    {
     "data": {
      "text/plain": [
       "(70295, 11)"
      ]
     },
     "execution_count": 66,
     "metadata": {},
     "output_type": "execute_result"
    }
   ],
   "source": [
    "cardio_data.shape"
   ]
  },
  {
   "cell_type": "code",
   "execution_count": 67,
   "id": "cc492cb3-6893-4e1e-9ec2-4f56e2bfcdbb",
   "metadata": {},
   "outputs": [
    {
     "data": {
      "text/plain": [
       "age              0\n",
       "gender           1\n",
       "ap_hi          295\n",
       "ap_lo            1\n",
       "cholesterol     24\n",
       "glucose          9\n",
       "smoke            0\n",
       "alcohol          0\n",
       "active           0\n",
       "cardio           1\n",
       "BMI            295\n",
       "dtype: int64"
      ]
     },
     "execution_count": 67,
     "metadata": {},
     "output_type": "execute_result"
    }
   ],
   "source": [
    "cardio_data.isna().sum()"
   ]
  },
  {
   "cell_type": "code",
   "execution_count": 68,
   "id": "0e5abdee-a0eb-43dd-9700-c2b4962340fd",
   "metadata": {},
   "outputs": [],
   "source": [
    "# Impute missing values in the 'ap_hi' column with the median\n",
    "cardio_data['ap_hi'] = cardio_data['ap_hi'].fillna(cardio_data['ap_hi'].median())"
   ]
  },
  {
   "cell_type": "code",
   "execution_count": 69,
   "id": "860c0986-61e2-4265-9596-ab46d43bcb13",
   "metadata": {},
   "outputs": [
    {
     "data": {
      "text/plain": [
       "age              0\n",
       "gender           1\n",
       "ap_hi            0\n",
       "ap_lo            1\n",
       "cholesterol     24\n",
       "glucose          9\n",
       "smoke            0\n",
       "alcohol          0\n",
       "active           0\n",
       "cardio           1\n",
       "BMI            295\n",
       "dtype: int64"
      ]
     },
     "execution_count": 69,
     "metadata": {},
     "output_type": "execute_result"
    }
   ],
   "source": [
    "cardio_data.isna().sum()"
   ]
  },
  {
   "cell_type": "code",
   "execution_count": 70,
   "id": "30eeb284-ded1-4527-b5cd-a1fd1c7910b3",
   "metadata": {},
   "outputs": [
    {
     "name": "stdout",
     "output_type": "stream",
     "text": [
      "0\n"
     ]
    }
   ],
   "source": [
    "# Impute missing values in the 'bmi' column with the median and assign it back\n",
    "cardio_data['BMI'] = cardio_data['BMI'].fillna(cardio_data['BMI'].median())\n",
    "\n",
    "# Check if there are any remaining NaN values\n",
    "print(cardio_data['BMI'].isnull().sum())"
   ]
  },
  {
   "cell_type": "code",
   "execution_count": 71,
   "id": "7865b796-4889-483f-9961-faaa36daa377",
   "metadata": {},
   "outputs": [
    {
     "data": {
      "text/plain": [
       "age             0\n",
       "gender          1\n",
       "ap_hi           0\n",
       "ap_lo           1\n",
       "cholesterol    24\n",
       "glucose         9\n",
       "smoke           0\n",
       "alcohol         0\n",
       "active          0\n",
       "cardio          1\n",
       "BMI             0\n",
       "dtype: int64"
      ]
     },
     "execution_count": 71,
     "metadata": {},
     "output_type": "execute_result"
    }
   ],
   "source": [
    "cardio_data.isna().sum()"
   ]
  },
  {
   "cell_type": "code",
   "execution_count": 72,
   "id": "8e7c7517-66e2-4d3d-9171-c373235a711c",
   "metadata": {},
   "outputs": [
    {
     "name": "stdout",
     "output_type": "stream",
     "text": [
      "0\n"
     ]
    }
   ],
   "source": [
    "cardio_data['cholesterol'] = cardio_data['cholesterol'].fillna(cardio_data['cholesterol'].median())\n",
    "\n",
    "print(cardio_data['cholesterol'].isnull().sum())"
   ]
  },
  {
   "cell_type": "code",
   "execution_count": 73,
   "id": "6e5f77ab-116a-4f64-b139-b1e18f4f3c25",
   "metadata": {},
   "outputs": [
    {
     "name": "stdout",
     "output_type": "stream",
     "text": [
      "0\n"
     ]
    }
   ],
   "source": [
    "# Impute missing values in the 'glucose' column with the median and assign it back\n",
    "cardio_data['glucose'] = cardio_data['glucose'].fillna(cardio_data['glucose'].median())\n",
    "\n",
    "# Check if there are any remaining NaN values\n",
    "print(cardio_data['glucose'].isnull().sum())"
   ]
  },
  {
   "cell_type": "code",
   "execution_count": 74,
   "id": "70d8cbb4-4829-4988-aae8-6224e1eba2e9",
   "metadata": {},
   "outputs": [
    {
     "data": {
      "text/plain": [
       "age            0\n",
       "gender         1\n",
       "ap_hi          0\n",
       "ap_lo          1\n",
       "cholesterol    0\n",
       "glucose        0\n",
       "smoke          0\n",
       "alcohol        0\n",
       "active         0\n",
       "cardio         1\n",
       "BMI            0\n",
       "dtype: int64"
      ]
     },
     "execution_count": 74,
     "metadata": {},
     "output_type": "execute_result"
    }
   ],
   "source": [
    "cardio_data.isna().sum()"
   ]
  },
  {
   "cell_type": "code",
   "execution_count": 75,
   "id": "17e36e87-9c10-4f7a-b156-37d987a502eb",
   "metadata": {},
   "outputs": [],
   "source": [
    "# Remove rows where 'cardio' has NaN values\n",
    "cardio_data = cardio_data.dropna(subset=['cardio'])\n",
    "cardio_data = cardio_data.dropna(subset=['ap_lo'])"
   ]
  },
  {
   "cell_type": "code",
   "execution_count": 76,
   "id": "01477970-d340-4dc5-8efe-a83d5cb35991",
   "metadata": {},
   "outputs": [
    {
     "name": "stdout",
     "output_type": "stream",
     "text": [
      "Accuracy: 0.7373512257575039\n",
      "Classification Report:\n",
      "              precision    recall  f1-score   support\n",
      "\n",
      "         0.0       0.72      0.78      0.75     10461\n",
      "         1.0       0.76      0.70      0.73     10628\n",
      "\n",
      "    accuracy                           0.74     21089\n",
      "   macro avg       0.74      0.74      0.74     21089\n",
      "weighted avg       0.74      0.74      0.74     21089\n",
      "\n",
      "[[8137 2324]\n",
      " [3215 7413]]\n"
     ]
    },
    {
     "data": {
      "image/png": "[encoded data removed]",
      "text/plain": [
       "<Figure size 600x400 with 2 Axes>"
      ]
     },
     "metadata": {},
     "output_type": "display_data"
    }
   ],
   "source": [
    "# Remove rows where 'cardio' has NaN values\n",
    "#cardio_data = cardio_data.dropna(subset=['cardio'])\n",
    "\n",
    "# Proceed with training after removing NaN values\n",
    "X = cardio_data.drop(columns=['cardio'])  # Features\n",
    "y = cardio_data['cardio']  # Target\n",
    "\n",
    "# Train-Test Split\n",
    "X_train, X_test, y_train, y_test = train_test_split(X, y, test_size=0.3, random_state=42)\n",
    "\n",
    "# Initialize and train the model\n",
    "model = HistGradientBoostingClassifier()\n",
    "model.fit(X_train, y_train)\n",
    "\n",
    "# Make predictions and evaluate\n",
    "y_pred = model.predict(X_test)\n",
    "print(f\"Accuracy: {accuracy_score(y_test, y_pred)}\")\n",
    "print(f\"Classification Report:\\n{classification_report(y_test, y_pred)}\")\n",
    "\n",
    "from sklearn.metrics import confusion_matrix\n",
    "\n",
    "# Compute confusion matrix\n",
    "cm = confusion_matrix(y_test,y_pred)\n",
    "\n",
    "print(cm)\n",
    "\n",
    "import seaborn as sns\n",
    "import matplotlib.pyplot as plt\n",
    "\n",
    "# Plot confusion matrix\n",
    "plt.figure(figsize=(6,4))\n",
    "sns.heatmap(cm, annot=True, fmt='d', cmap='Blues')\n",
    "plt.xlabel('Predicted')\n",
    "plt.ylabel('Actual')\n",
    "plt.title('Confusion Matrix for HistGradientBoosting Classifier')\n",
    "plt.show()"
   ]
  },
  {
   "cell_type": "code",
   "execution_count": 77,
   "id": "715ff96d-e119-499c-a520-e94a09738a3b",
   "metadata": {},
   "outputs": [
    {
     "name": "stdout",
     "output_type": "stream",
     "text": [
      "21089\n",
      "21089\n"
     ]
    }
   ],
   "source": [
    "print(len(y_test))   \n",
    "print(len(y_pred))"
   ]
  },
  {
   "cell_type": "code",
   "execution_count": 78,
   "id": "d52ff753-3ae8-4c99-8686-6b9bd790714c",
   "metadata": {},
   "outputs": [
    {
     "name": "stdout",
     "output_type": "stream",
     "text": [
      "Accuracy: 0.4965621888188155\n",
      "Classification Report:\n",
      "              precision    recall  f1-score   support\n",
      "\n",
      "         0.0       0.50      1.00      0.66     10461\n",
      "         1.0       0.67      0.00      0.00     10628\n",
      "\n",
      "    accuracy                           0.50     21089\n",
      "   macro avg       0.58      0.50      0.33     21089\n",
      "weighted avg       0.58      0.50      0.33     21089\n",
      "\n",
      "[[10450    11]\n",
      " [10606    22]]\n"
     ]
    }
   ],
   "source": [
    "# Define features (X) and target (y)\n",
    "X = cardio_data.drop(columns=['cardio'])  # Features\n",
    "y = cardio_data['cardio']  # Target\n",
    "\n",
    "# 2. Train-Test Split\n",
    "X_train, X_test, y_train, y_test = train_test_split(X, y, test_size=0.3, random_state=42)\n",
    "\n",
    "# 3. Initialize the SGDClassifier (you can tweak the parameters as needed)\n",
    "sgd_classifier = SGDClassifier(random_state=42, max_iter=1000, tol=1e-3)\n",
    "\n",
    "# 4. Train the Model\n",
    "sgd_classifier.fit(X_train, y_train)\n",
    "\n",
    "# 5. Make Predictions\n",
    "y_pred = sgd_classifier.predict(X_test)\n",
    "\n",
    "# 6. Evaluate the Model\n",
    "print(f\"Accuracy: {accuracy_score(y_test, y_pred)}\")\n",
    "print(f\"Classification Report:\\n{classification_report(y_test, y_pred)}\")\n",
    "\n",
    "from sklearn.metrics import confusion_matrix\n",
    "\n",
    "# Compute confusion matrix\n",
    "cm = confusion_matrix(y_test,y_pred)\n",
    "\n",
    "print(cm)"
   ]
  },
  {
   "cell_type": "code",
   "execution_count": 79,
   "id": "0510ba16-9aa4-469d-af4c-a3efd1ee2bfc",
   "metadata": {},
   "outputs": [
    {
     "data": {
      "image/png": "[encoded data removed]",
      "text/plain": [
       "<Figure size 600x400 with 2 Axes>"
      ]
     },
     "metadata": {},
     "output_type": "display_data"
    }
   ],
   "source": [
    "import seaborn as sns\n",
    "import matplotlib.pyplot as plt\n",
    "\n",
    "# Plot confusion matrix\n",
    "plt.figure(figsize=(6,4))\n",
    "sns.heatmap(cm, annot=True, fmt='d', cmap='Blues')\n",
    "plt.xlabel('Predicted')\n",
    "plt.ylabel('Actual')\n",
    "plt.title('Confusion Matrix for SGD Classifier')\n",
    "plt.show()"
   ]
  },
  {
   "cell_type": "code",
   "execution_count": 80,
   "id": "375354db-082e-4ae4-bdd6-69e04e943a7c",
   "metadata": {},
   "outputs": [
    {
     "data": {
      "text/plain": [
       "age            0\n",
       "gender         0\n",
       "ap_hi          0\n",
       "ap_lo          0\n",
       "cholesterol    0\n",
       "glucose        0\n",
       "smoke          0\n",
       "alcohol        0\n",
       "active         0\n",
       "BMI            0\n",
       "dtype: int64"
      ]
     },
     "execution_count": 80,
     "metadata": {},
     "output_type": "execute_result"
    }
   ],
   "source": [
    "X_train.isna().sum()"
   ]
  },
  {
   "cell_type": "code",
   "execution_count": 81,
   "id": "de1882a6-b84b-46fc-9d3a-8351db31aca7",
   "metadata": {},
   "outputs": [
    {
     "name": "stdout",
     "output_type": "stream",
     "text": [
      "Accuracy: 0.7133102565318412\n",
      "Classification Report:\n",
      "              precision    recall  f1-score   support\n",
      "\n",
      "         0.0       0.70      0.74      0.72     10461\n",
      "         1.0       0.73      0.69      0.71     10628\n",
      "\n",
      "    accuracy                           0.71     21089\n",
      "   macro avg       0.71      0.71      0.71     21089\n",
      "weighted avg       0.71      0.71      0.71     21089\n",
      "\n"
     ]
    }
   ],
   "source": [
    "# Define features (X) and target (y)\n",
    "X = cardio_data.drop(columns=['cardio'])  # Features\n",
    "y = cardio_data['cardio']  # Target\n",
    "\n",
    "X_train, X_test, y_train, y_test = train_test_split(X, y, test_size=0.3, random_state=42)\n",
    "\n",
    "scaler = StandardScaler()\n",
    "X_train_scaled = scaler.fit_transform(X_train)\n",
    "X_test_scaled = scaler.transform(X_test)\n",
    "\n",
    "log_reg = LogisticRegression(max_iter=1000, random_state=42)\n",
    "log_reg.fit(X_train_scaled, y_train)\n",
    "\n",
    "y_pred = log_reg.predict(X_test_scaled)\n",
    "print(f\"Accuracy: {accuracy_score(y_test, y_pred)}\")\n",
    "print(f\"Classification Report:\\n{classification_report(y_test, y_pred)}\")"
   ]
  },
  {
   "cell_type": "code",
   "execution_count": 82,
   "id": "aa1c6003-49ad-4b30-bd0c-68df411b6a6f",
   "metadata": {},
   "outputs": [
    {
     "name": "stdout",
     "output_type": "stream",
     "text": [
      "Accuracy: 0.7133102565318412\n",
      "Classification Report:\n",
      "              precision    recall  f1-score   support\n",
      "\n",
      "         0.0       0.70      0.74      0.72     10461\n",
      "         1.0       0.73      0.69      0.71     10628\n",
      "\n",
      "    accuracy                           0.71     21089\n",
      "   macro avg       0.71      0.71      0.71     21089\n",
      "weighted avg       0.71      0.71      0.71     21089\n",
      "\n"
     ]
    }
   ],
   "source": [
    "# Define features (X) and target (y)\n",
    "X = cardio_data.drop(columns=['cardio'])  # Features\n",
    "y = cardio_data['cardio']  # Target\n",
    "\n",
    "X_train, X_test, y_train, y_test = train_test_split(X, y, test_size=0.3, random_state=42)\n",
    "\n",
    "rf = RandomForestClassifier()\n",
    "rf.fit(X_train, y_train)\n",
    "y_pred_rf = rf.predict(X_test)\n",
    "\n",
    "print(f\"Accuracy: {accuracy_score(y_test, y_pred)}\")\n",
    "print(f\"Classification Report:\\n{classification_report(y_test, y_pred)}\")"
   ]
  },
  {
   "cell_type": "code",
   "execution_count": 83,
   "id": "b951b7d4-849c-4a4f-b66e-46d094caf25f",
   "metadata": {},
   "outputs": [
    {
     "data": {
      "text/html": [
       "<div>\n",
       "<style scoped>\n",
       "    .dataframe tbody tr th:only-of-type {\n",
       "        vertical-align: middle;\n",
       "    }\n",
       "\n",
       "    .dataframe tbody tr th {\n",
       "        vertical-align: top;\n",
       "    }\n",
       "\n",
       "    .dataframe thead th {\n",
       "        text-align: right;\n",
       "    }\n",
       "</style>\n",
       "<table border=\"1\" class=\"dataframe\">\n",
       "  <thead>\n",
       "    <tr style=\"text-align: right;\">\n",
       "      <th></th>\n",
       "      <th>age</th>\n",
       "      <th>gender</th>\n",
       "      <th>ap_hi</th>\n",
       "      <th>ap_lo</th>\n",
       "      <th>cholesterol</th>\n",
       "      <th>glucose</th>\n",
       "      <th>smoke</th>\n",
       "      <th>alcohol</th>\n",
       "      <th>active</th>\n",
       "      <th>cardio</th>\n",
       "      <th>BMI</th>\n",
       "    </tr>\n",
       "  </thead>\n",
       "  <tbody>\n",
       "    <tr>\n",
       "      <th>0</th>\n",
       "      <td>18393.0</td>\n",
       "      <td>2.0</td>\n",
       "      <td>110.0</td>\n",
       "      <td>80.0</td>\n",
       "      <td>1.0</td>\n",
       "      <td>1.0</td>\n",
       "      <td>0.0</td>\n",
       "      <td>0.0</td>\n",
       "      <td>1.0</td>\n",
       "      <td>0.0</td>\n",
       "      <td>21.967120</td>\n",
       "    </tr>\n",
       "    <tr>\n",
       "      <th>1</th>\n",
       "      <td>20228.0</td>\n",
       "      <td>1.0</td>\n",
       "      <td>140.0</td>\n",
       "      <td>90.0</td>\n",
       "      <td>3.0</td>\n",
       "      <td>1.0</td>\n",
       "      <td>0.0</td>\n",
       "      <td>0.0</td>\n",
       "      <td>1.0</td>\n",
       "      <td>1.0</td>\n",
       "      <td>34.927679</td>\n",
       "    </tr>\n",
       "    <tr>\n",
       "      <th>2</th>\n",
       "      <td>18857.0</td>\n",
       "      <td>1.0</td>\n",
       "      <td>130.0</td>\n",
       "      <td>70.0</td>\n",
       "      <td>3.0</td>\n",
       "      <td>1.0</td>\n",
       "      <td>0.0</td>\n",
       "      <td>0.0</td>\n",
       "      <td>0.0</td>\n",
       "      <td>1.0</td>\n",
       "      <td>23.507805</td>\n",
       "    </tr>\n",
       "    <tr>\n",
       "      <th>3</th>\n",
       "      <td>17623.0</td>\n",
       "      <td>2.0</td>\n",
       "      <td>150.0</td>\n",
       "      <td>100.0</td>\n",
       "      <td>1.0</td>\n",
       "      <td>1.0</td>\n",
       "      <td>0.0</td>\n",
       "      <td>0.0</td>\n",
       "      <td>1.0</td>\n",
       "      <td>1.0</td>\n",
       "      <td>28.710479</td>\n",
       "    </tr>\n",
       "    <tr>\n",
       "      <th>4</th>\n",
       "      <td>17474.0</td>\n",
       "      <td>1.0</td>\n",
       "      <td>100.0</td>\n",
       "      <td>60.0</td>\n",
       "      <td>1.0</td>\n",
       "      <td>1.0</td>\n",
       "      <td>0.0</td>\n",
       "      <td>0.0</td>\n",
       "      <td>0.0</td>\n",
       "      <td>0.0</td>\n",
       "      <td>23.011177</td>\n",
       "    </tr>\n",
       "    <tr>\n",
       "      <th>5</th>\n",
       "      <td>21914.0</td>\n",
       "      <td>1.0</td>\n",
       "      <td>120.0</td>\n",
       "      <td>80.0</td>\n",
       "      <td>2.0</td>\n",
       "      <td>2.0</td>\n",
       "      <td>0.0</td>\n",
       "      <td>0.0</td>\n",
       "      <td>0.0</td>\n",
       "      <td>0.0</td>\n",
       "      <td>29.384676</td>\n",
       "    </tr>\n",
       "    <tr>\n",
       "      <th>6</th>\n",
       "      <td>22113.0</td>\n",
       "      <td>1.0</td>\n",
       "      <td>130.0</td>\n",
       "      <td>80.0</td>\n",
       "      <td>3.0</td>\n",
       "      <td>1.0</td>\n",
       "      <td>0.0</td>\n",
       "      <td>0.0</td>\n",
       "      <td>1.0</td>\n",
       "      <td>0.0</td>\n",
       "      <td>37.729725</td>\n",
       "    </tr>\n",
       "    <tr>\n",
       "      <th>7</th>\n",
       "      <td>22584.0</td>\n",
       "      <td>2.0</td>\n",
       "      <td>130.0</td>\n",
       "      <td>90.0</td>\n",
       "      <td>3.0</td>\n",
       "      <td>3.0</td>\n",
       "      <td>0.0</td>\n",
       "      <td>0.0</td>\n",
       "      <td>1.0</td>\n",
       "      <td>1.0</td>\n",
       "      <td>29.983588</td>\n",
       "    </tr>\n",
       "    <tr>\n",
       "      <th>8</th>\n",
       "      <td>17668.0</td>\n",
       "      <td>1.0</td>\n",
       "      <td>110.0</td>\n",
       "      <td>70.0</td>\n",
       "      <td>1.0</td>\n",
       "      <td>1.0</td>\n",
       "      <td>0.0</td>\n",
       "      <td>0.0</td>\n",
       "      <td>1.0</td>\n",
       "      <td>0.0</td>\n",
       "      <td>28.440955</td>\n",
       "    </tr>\n",
       "    <tr>\n",
       "      <th>9</th>\n",
       "      <td>19834.0</td>\n",
       "      <td>1.0</td>\n",
       "      <td>110.0</td>\n",
       "      <td>60.0</td>\n",
       "      <td>1.0</td>\n",
       "      <td>1.0</td>\n",
       "      <td>0.0</td>\n",
       "      <td>0.0</td>\n",
       "      <td>0.0</td>\n",
       "      <td>0.0</td>\n",
       "      <td>25.282570</td>\n",
       "    </tr>\n",
       "    <tr>\n",
       "      <th>10</th>\n",
       "      <td>22530.0</td>\n",
       "      <td>1.0</td>\n",
       "      <td>120.0</td>\n",
       "      <td>80.0</td>\n",
       "      <td>1.0</td>\n",
       "      <td>1.0</td>\n",
       "      <td>0.0</td>\n",
       "      <td>0.0</td>\n",
       "      <td>1.0</td>\n",
       "      <td>0.0</td>\n",
       "      <td>28.010224</td>\n",
       "    </tr>\n",
       "    <tr>\n",
       "      <th>11</th>\n",
       "      <td>18815.0</td>\n",
       "      <td>2.0</td>\n",
       "      <td>120.0</td>\n",
       "      <td>80.0</td>\n",
       "      <td>1.0</td>\n",
       "      <td>1.0</td>\n",
       "      <td>0.0</td>\n",
       "      <td>0.0</td>\n",
       "      <td>1.0</td>\n",
       "      <td>0.0</td>\n",
       "      <td>20.047446</td>\n",
       "    </tr>\n",
       "    <tr>\n",
       "      <th>12</th>\n",
       "      <td>14791.0</td>\n",
       "      <td>2.0</td>\n",
       "      <td>120.0</td>\n",
       "      <td>80.0</td>\n",
       "      <td>1.0</td>\n",
       "      <td>1.0</td>\n",
       "      <td>0.0</td>\n",
       "      <td>0.0</td>\n",
       "      <td>0.0</td>\n",
       "      <td>0.0</td>\n",
       "      <td>22.038567</td>\n",
       "    </tr>\n",
       "    <tr>\n",
       "      <th>13</th>\n",
       "      <td>19809.0</td>\n",
       "      <td>1.0</td>\n",
       "      <td>110.0</td>\n",
       "      <td>70.0</td>\n",
       "      <td>1.0</td>\n",
       "      <td>1.0</td>\n",
       "      <td>0.0</td>\n",
       "      <td>0.0</td>\n",
       "      <td>1.0</td>\n",
       "      <td>0.0</td>\n",
       "      <td>31.244993</td>\n",
       "    </tr>\n",
       "    <tr>\n",
       "      <th>14</th>\n",
       "      <td>14532.0</td>\n",
       "      <td>2.0</td>\n",
       "      <td>130.0</td>\n",
       "      <td>90.0</td>\n",
       "      <td>1.0</td>\n",
       "      <td>1.0</td>\n",
       "      <td>1.0</td>\n",
       "      <td>1.0</td>\n",
       "      <td>1.0</td>\n",
       "      <td>0.0</td>\n",
       "      <td>28.997894</td>\n",
       "    </tr>\n",
       "    <tr>\n",
       "      <th>15</th>\n",
       "      <td>16782.0</td>\n",
       "      <td>2.0</td>\n",
       "      <td>120.0</td>\n",
       "      <td>80.0</td>\n",
       "      <td>1.0</td>\n",
       "      <td>1.0</td>\n",
       "      <td>0.0</td>\n",
       "      <td>0.0</td>\n",
       "      <td>0.0</td>\n",
       "      <td>1.0</td>\n",
       "      <td>37.858302</td>\n",
       "    </tr>\n",
       "    <tr>\n",
       "      <th>16</th>\n",
       "      <td>21296.0</td>\n",
       "      <td>1.0</td>\n",
       "      <td>130.0</td>\n",
       "      <td>70.0</td>\n",
       "      <td>1.0</td>\n",
       "      <td>1.0</td>\n",
       "      <td>0.0</td>\n",
       "      <td>0.0</td>\n",
       "      <td>0.0</td>\n",
       "      <td>0.0</td>\n",
       "      <td>25.951557</td>\n",
       "    </tr>\n",
       "    <tr>\n",
       "      <th>17</th>\n",
       "      <td>16747.0</td>\n",
       "      <td>1.0</td>\n",
       "      <td>110.0</td>\n",
       "      <td>70.0</td>\n",
       "      <td>1.0</td>\n",
       "      <td>3.0</td>\n",
       "      <td>0.0</td>\n",
       "      <td>0.0</td>\n",
       "      <td>1.0</td>\n",
       "      <td>0.0</td>\n",
       "      <td>20.829995</td>\n",
       "    </tr>\n",
       "    <tr>\n",
       "      <th>18</th>\n",
       "      <td>17482.0</td>\n",
       "      <td>1.0</td>\n",
       "      <td>100.0</td>\n",
       "      <td>70.0</td>\n",
       "      <td>1.0</td>\n",
       "      <td>1.0</td>\n",
       "      <td>0.0</td>\n",
       "      <td>0.0</td>\n",
       "      <td>0.0</td>\n",
       "      <td>0.0</td>\n",
       "      <td>28.672626</td>\n",
       "    </tr>\n",
       "    <tr>\n",
       "      <th>19</th>\n",
       "      <td>21755.0</td>\n",
       "      <td>2.0</td>\n",
       "      <td>120.0</td>\n",
       "      <td>70.0</td>\n",
       "      <td>1.0</td>\n",
       "      <td>1.0</td>\n",
       "      <td>1.0</td>\n",
       "      <td>0.0</td>\n",
       "      <td>1.0</td>\n",
       "      <td>0.0</td>\n",
       "      <td>21.338211</td>\n",
       "    </tr>\n",
       "  </tbody>\n",
       "</table>\n",
       "</div>"
      ],
      "text/plain": [
       "        age  gender  ap_hi  ap_lo  cholesterol  glucose  smoke  alcohol  \\\n",
       "0   18393.0     2.0  110.0   80.0          1.0      1.0    0.0      0.0   \n",
       "1   20228.0     1.0  140.0   90.0          3.0      1.0    0.0      0.0   \n",
       "2   18857.0     1.0  130.0   70.0          3.0      1.0    0.0      0.0   \n",
       "3   17623.0     2.0  150.0  100.0          1.0      1.0    0.0      0.0   \n",
       "4   17474.0     1.0  100.0   60.0          1.0      1.0    0.0      0.0   \n",
       "5   21914.0     1.0  120.0   80.0          2.0      2.0    0.0      0.0   \n",
       "6   22113.0     1.0  130.0   80.0          3.0      1.0    0.0      0.0   \n",
       "7   22584.0     2.0  130.0   90.0          3.0      3.0    0.0      0.0   \n",
       "8   17668.0     1.0  110.0   70.0          1.0      1.0    0.0      0.0   \n",
       "9   19834.0     1.0  110.0   60.0          1.0      1.0    0.0      0.0   \n",
       "10  22530.0     1.0  120.0   80.0          1.0      1.0    0.0      0.0   \n",
       "11  18815.0     2.0  120.0   80.0          1.0      1.0    0.0      0.0   \n",
       "12  14791.0     2.0  120.0   80.0          1.0      1.0    0.0      0.0   \n",
       "13  19809.0     1.0  110.0   70.0          1.0      1.0    0.0      0.0   \n",
       "14  14532.0     2.0  130.0   90.0          1.0      1.0    1.0      1.0   \n",
       "15  16782.0     2.0  120.0   80.0          1.0      1.0    0.0      0.0   \n",
       "16  21296.0     1.0  130.0   70.0          1.0      1.0    0.0      0.0   \n",
       "17  16747.0     1.0  110.0   70.0          1.0      3.0    0.0      0.0   \n",
       "18  17482.0     1.0  100.0   70.0          1.0      1.0    0.0      0.0   \n",
       "19  21755.0     2.0  120.0   70.0          1.0      1.0    1.0      0.0   \n",
       "\n",
       "    active  cardio        BMI  \n",
       "0      1.0     0.0  21.967120  \n",
       "1      1.0     1.0  34.927679  \n",
       "2      0.0     1.0  23.507805  \n",
       "3      1.0     1.0  28.710479  \n",
       "4      0.0     0.0  23.011177  \n",
       "5      0.0     0.0  29.384676  \n",
       "6      1.0     0.0  37.729725  \n",
       "7      1.0     1.0  29.983588  \n",
       "8      1.0     0.0  28.440955  \n",
       "9      0.0     0.0  25.282570  \n",
       "10     1.0     0.0  28.010224  \n",
       "11     1.0     0.0  20.047446  \n",
       "12     0.0     0.0  22.038567  \n",
       "13     1.0     0.0  31.244993  \n",
       "14     1.0     0.0  28.997894  \n",
       "15     0.0     1.0  37.858302  \n",
       "16     0.0     0.0  25.951557  \n",
       "17     1.0     0.0  20.829995  \n",
       "18     0.0     0.0  28.672626  \n",
       "19     1.0     0.0  21.338211  "
      ]
     },
     "execution_count": 83,
     "metadata": {},
     "output_type": "execute_result"
    }
   ],
   "source": [
    "cardio_data.head(20)"
   ]
  },
  {
   "cell_type": "code",
   "execution_count": 84,
   "id": "b07e30f5-0fab-4d53-aa0d-048f9a28006f",
   "metadata": {},
   "outputs": [
    {
     "name": "stdout",
     "output_type": "stream",
     "text": [
      "<class 'pandas.core.frame.DataFrame'>\n",
      "Index: 70294 entries, 0 to 70294\n",
      "Data columns (total 11 columns):\n",
      " #   Column       Non-Null Count  Dtype  \n",
      "---  ------       --------------  -----  \n",
      " 0   age          70294 non-null  float64\n",
      " 1   gender       70294 non-null  float64\n",
      " 2   ap_hi        70294 non-null  float64\n",
      " 3   ap_lo        70294 non-null  float64\n",
      " 4   cholesterol  70294 non-null  float64\n",
      " 5   glucose      70294 non-null  float64\n",
      " 6   smoke        70294 non-null  float64\n",
      " 7   alcohol      70294 non-null  float64\n",
      " 8   active       70294 non-null  float64\n",
      " 9   cardio       70294 non-null  float64\n",
      " 10  BMI          70294 non-null  float64\n",
      "dtypes: float64(11)\n",
      "memory usage: 6.4 MB\n"
     ]
    }
   ],
   "source": [
    "cardio_data.info()"
   ]
  },
  {
   "cell_type": "code",
   "execution_count": 85,
   "id": "a836cffe-aa1a-4870-a90e-c7ea54ba76a6",
   "metadata": {},
   "outputs": [],
   "source": [
    "import matplotlib.pyplot as plt\n",
    "\n",
    "def plot_histograms(df):\n",
    "    numeric_columns = df.select_dtypes(include=['float64', 'int64']).columns\n",
    "\n",
    "    df[numeric_columns].hist(bins=15, figsize=(15, 10), layout=(len(numeric_columns) // 3 + 1, 3))\n",
    "    plt.tight_layout()\n",
    "    plt.show()"
   ]
  },
  {
   "cell_type": "code",
   "execution_count": 86,
   "id": "fd63407e-9f60-467f-91b6-c4882ec48cdd",
   "metadata": {
    "scrolled": true
   },
   "outputs": [
    {
     "data": {
      "text/plain": [
       "'\"\\nfrom sklearn.metrics import accuracy_score\\nfrom sklearn.preprocessing import StandardScaler\\n\\n# Scale the features before training the models\\nscaler = StandardScaler()\\n\\n# Fit scaler on training data and transform both train and test sets\\nX_train_scaled = scaler.fit_transform(X_train)\\nX_test_scaled = scaler.transform(X_test)\\n\\n# Train classifiers on scaled data\\nfor name, clf in classifiers.items():\\n    clf.fit(X_train_scaled, y_train)\\n    y_pred = clf.predict(X_test_scaled)\\n    accuracy = accuracy_score(y_test, y_pred)\\n    accuracy_results[name] = accuracy\\n\\nclassifiers = {\\n    \\'SGD Classifier\\': SGDClassifier(max_iter=1000, random_state=42),\\n    \\'HistGradientBoosting\\': HistGradientBoostingClassifier(random_state=42),\\n    \\'Logistic Regression\\': LogisticRegression(max_iter=1000, random_state=42),\\n    \\'Random Forest\\': RandomForestClassifier(random_state=42)\\n}\\n\\n# Dictionary to store accuracy results\\naccuracy_results = {}\\n\\nfor name, clf in classifiers.items():\\n    clf.fit(X_train, y_train)\\n    y_pred = clf.predict(X_test)\\n    accuracy = accuracy_score(y_test, y_pred)\\n    accuracy_results[name] = accuracy\\n\\naccuracy_df = pd.DataFrame(list(accuracy_results.items()), columns=[\\'Algorithm\\', \\'Accuracy\\'])\\n\\nplt.figure(figsize=(10, 6))\\nplt.bar(accuracy_df[\\'Algorithm\\'], accuracy_df[\\'Accuracy\\'], color=\\'skyblue\\')\\nplt.xlabel(\\'Algorithm\\')\\nplt.ylabel(\\'Accuracy\\')\\nplt.title(\\'Accuracy vs Algorithm Used on Cardio Data\\')\\nplt.ylim(0, 1)\\nplt.xticks(rotation=45)\\nplt.show()\\n\\nimport warnings\\nfrom sklearn.exceptions import ConvergenceWarning\\n\\n# Suppress ConvergenceWarning\\nwarnings.filterwarnings(\"ignore\", category=ConvergenceWarning)'"
      ]
     },
     "execution_count": 86,
     "metadata": {},
     "output_type": "execute_result"
    }
   ],
   "source": [
    "\"\"\"\"\n",
    "from sklearn.metrics import accuracy_score\n",
    "from sklearn.preprocessing import StandardScaler\n",
    "\n",
    "# Scale the features before training the models\n",
    "scaler = StandardScaler()\n",
    "\n",
    "# Fit scaler on training data and transform both train and test sets\n",
    "X_train_scaled = scaler.fit_transform(X_train)\n",
    "X_test_scaled = scaler.transform(X_test)\n",
    "\n",
    "# Train classifiers on scaled data\n",
    "for name, clf in classifiers.items():\n",
    "    clf.fit(X_train_scaled, y_train)\n",
    "    y_pred = clf.predict(X_test_scaled)\n",
    "    accuracy = accuracy_score(y_test, y_pred)\n",
    "    accuracy_results[name] = accuracy\n",
    "\n",
    "classifiers = {\n",
    "    'SGD Classifier': SGDClassifier(max_iter=1000, random_state=42),\n",
    "    'HistGradientBoosting': HistGradientBoostingClassifier(random_state=42),\n",
    "    'Logistic Regression': LogisticRegression(max_iter=1000, random_state=42),\n",
    "    'Random Forest': RandomForestClassifier(random_state=42)\n",
    "}\n",
    "\n",
    "# Dictionary to store accuracy results\n",
    "accuracy_results = {}\n",
    "\n",
    "for name, clf in classifiers.items():\n",
    "    clf.fit(X_train, y_train)\n",
    "    y_pred = clf.predict(X_test)\n",
    "    accuracy = accuracy_score(y_test, y_pred)\n",
    "    accuracy_results[name] = accuracy\n",
    "\n",
    "accuracy_df = pd.DataFrame(list(accuracy_results.items()), columns=['Algorithm', 'Accuracy'])\n",
    "\n",
    "plt.figure(figsize=(10, 6))\n",
    "plt.bar(accuracy_df['Algorithm'], accuracy_df['Accuracy'], color='skyblue')\n",
    "plt.xlabel('Algorithm')\n",
    "plt.ylabel('Accuracy')\n",
    "plt.title('Accuracy vs Algorithm Used on Cardio Data')\n",
    "plt.ylim(0, 1)\n",
    "plt.xticks(rotation=45)\n",
    "plt.show()\n",
    "\n",
    "import warnings\n",
    "from sklearn.exceptions import ConvergenceWarning\n",
    "\n",
    "# Suppress ConvergenceWarning\n",
    "warnings.filterwarnings(\"ignore\", category=ConvergenceWarning)\"\"\""
   ]
  },
  {
   "cell_type": "markdown",
   "id": "ac22127c",
   "metadata": {},
   "source": [
    "### P-2\n"
   ]
  },
  {
   "cell_type": "code",
   "execution_count": 87,
   "id": "61a02643",
   "metadata": {},
   "outputs": [
    {
     "name": "stdout",
     "output_type": "stream",
     "text": [
      "       Feature  Correlation with Target\n",
      "0          age                 0.237546\n",
      "9          BMI                 0.165498\n",
      "6      glucose                 0.089524\n",
      "3        ap_lo                 0.066135\n",
      "2        ap_hi                 0.054427\n",
      "1       gender                 0.008182\n",
      "4  cholesterol                -0.002533\n",
      "7      alcohol                -0.007037\n",
      "5        smoke                -0.015089\n",
      "8       active                -0.036134\n"
     ]
    }
   ],
   "source": [
    "import pandas as pd\n",
    "import numpy as np\n",
    "from scipy.stats import pointbiserialr\n",
    "\n",
    "# Assuming cardio_data is already defined and cleaned\n",
    "features = ['age', 'gender', 'ap_hi', 'ap_lo', 'cholesterol', 'smoke', 'glucose', 'alcohol', 'active', 'BMI']\n",
    "target = 'cardio'\n",
    "\n",
    "# Initialize an empty dictionary to store correlation coefficients\n",
    "correlation_dict = {}\n",
    "\n",
    "for feature in features:\n",
    "    correlation, _ = pointbiserialr(cardio_data[feature], cardio_data[target])\n",
    "    correlation_dict[feature] = correlation\n",
    "\n",
    "# Convert the dictionary to a DataFrame for better visualization\n",
    "correlation_df = pd.DataFrame(list(correlation_dict.items()), columns=['Feature', 'Correlation with Target'])\n",
    "correlation_df = correlation_df.sort_values(by='Correlation with Target', ascending=False)\n",
    "\n",
    "# Display the correlation DataFrame\n",
    "print(correlation_df)\n"
   ]
  },
  {
   "cell_type": "markdown",
   "id": "4ea96c2d",
   "metadata": {},
   "source": [
    "#### permuataion feature importance"
   ]
  },
  {
   "cell_type": "code",
   "execution_count": 88,
   "id": "277a0024",
   "metadata": {},
   "outputs": [
    {
     "data": {
      "image/png": "[encoded data removed]",
      "text/plain": [
       "<Figure size 1000x600 with 1 Axes>"
      ]
     },
     "metadata": {},
     "output_type": "display_data"
    }
   ],
   "source": [
    "from sklearn.ensemble import RandomForestClassifier\n",
    "from sklearn.model_selection import train_test_split\n",
    "from sklearn.inspection import permutation_importance\n",
    "\n",
    "features = ['age', 'gender', 'ap_hi', 'ap_lo', 'cholesterol', 'smoke', 'glucose', 'alcohol', 'active', 'BMI']\n",
    "target = 'cardio'\n",
    "\n",
    "if cardio_data[target].isnull().any():\n",
    "    print(\"Warning: NaN values found in the target variable. Dropping NaNs.\")\n",
    "    cardio_data = cardio_data.dropna(subset=[target])\n",
    "\n",
    "cardio_data[target] = cardio_data[target].astype(int)\n",
    "\n",
    "X_train, X_test, y_train, y_test = train_test_split(cardio_data[features], cardio_data[target], test_size=0.3, random_state=42)\n",
    "\n",
    "rf_classifier = RandomForestClassifier(n_estimators=100, random_state=42)\n",
    "rf_classifier.fit(X_train, y_train)\n",
    "\n",
    "perm_importance = permutation_importance(rf_classifier, X_test, y_test, n_repeats=10, random_state=42)\n",
    "\n",
    "feature_importances = perm_importance.importances_mean\n",
    "\n",
    "sorted_idx = np.argsort(feature_importances)[::-1]\n",
    "\n",
    "plt.figure(figsize=(10, 6))\n",
    "plt.barh(np.array(features)[sorted_idx], feature_importances[sorted_idx])\n",
    "plt.xlabel(\"Permutation Importance\")\n",
    "plt.ylabel(\"Features\")\n",
    "plt.title(\"Permutation Feature Importance for Heart Disease Prediction\")\n",
    "plt.show()\n"
   ]
  },
  {
   "cell_type": "markdown",
   "id": "a7a5ff1d",
   "metadata": {},
   "source": [
    "#### permutation feature importance using ExtraTreesClassifier"
   ]
  },
  {
   "cell_type": "code",
   "execution_count": 89,
   "id": "c7186b98",
   "metadata": {},
   "outputs": [
    {
     "data": {
      "image/png": "[encoded data removed]",
      "text/plain": [
       "<Figure size 1000x600 with 1 Axes>"
      ]
     },
     "metadata": {},
     "output_type": "display_data"
    }
   ],
   "source": [
    "import numpy as np\n",
    "import pandas as pd\n",
    "from sklearn.ensemble import ExtraTreesClassifier\n",
    "from sklearn.model_selection import train_test_split\n",
    "from sklearn.inspection import permutation_importance\n",
    "import matplotlib.pyplot as plt\n",
    "\n",
    "features = ['age', 'gender', 'ap_hi', 'ap_lo', 'cholesterol', 'smoke', 'glucose', 'alcohol', 'active', 'BMI']\n",
    "target = 'cardio'\n",
    "\n",
    "if cardio_data[target].isnull().any():\n",
    "    print(\"Warning: NaN values found in the target variable. Dropping NaNs.\")\n",
    "    cardio_data = cardio_data.dropna(subset=[target])\n",
    "\n",
    "cardio_data[target] = cardio_data[target].astype(int)\n",
    "\n",
    "X_train, X_test, y_train, y_test = train_test_split(cardio_data[features], cardio_data[target], test_size=0.3, random_state=42)\n",
    "\n",
    "extra_trees = ExtraTreesClassifier(n_estimators=100, random_state=42)\n",
    "extra_trees.fit(X_train, y_train)\n",
    "\n",
    "perm_importance = permutation_importance(extra_trees, X_test, y_test, n_repeats=10, random_state=42)\n",
    "\n",
    "feature_importances = perm_importance.importances_mean\n",
    "\n",
    "sorted_idx = np.argsort(feature_importances)[::-1]\n",
    "\n",
    "plt.figure(figsize=(10, 6))\n",
    "plt.barh(np.array(features)[sorted_idx], feature_importances[sorted_idx])\n",
    "plt.xlabel(\"Permutation Importance\")\n",
    "plt.ylabel(\"Features\")\n",
    "plt.title(\"Permutation Feature Importance for Heart Disease Prediction using ExtraTreesClassifier\")\n",
    "plt.show()"
   ]
  },
  {
   "cell_type": "markdown",
   "id": "7b074bf3",
   "metadata": {},
   "source": [
    "#### Feature Weights"
   ]
  },
  {
   "cell_type": "code",
   "execution_count": 90,
   "id": "85ccedf3",
   "metadata": {},
   "outputs": [
    {
     "name": "stdout",
     "output_type": "stream",
     "text": [
      "Feature Weights: [-0.14        0.02        0.1         0.07        0.07        0.\n",
      "  0.05        0.         -0.05        0.27473998]\n"
     ]
    }
   ],
   "source": [
    "import numpy as np\n",
    "import pandas as pd\n",
    "from sklearn.neighbors import NearestNeighbors\n",
    "\n",
    "def calculate_feature_weights(cardio_data, m):\n",
    "   \n",
    "    features = ['age', 'gender', 'ap_hi', 'ap_lo', 'cholesterol', 'smoke', 'glucose', 'alcohol', 'active', 'BMI']\n",
    "    target = 'cardio'\n",
    "\n",
    "    X = cardio_data[features].values\n",
    "    y = cardio_data[target].values\n",
    "\n",
    "    \n",
    "    n = X.shape[0]  \n",
    "    d = X.shape[1]  \n",
    "    W = np.zeros(d)  \n",
    "\n",
    "    nbrs = NearestNeighbors(n_neighbors=2).fit(X)\n",
    "\n",
    "    for k in range(m):\n",
    "        target_index = np.random.choice(n)\n",
    "        Rk = X[target_index]\n",
    "        label_Rk = y[target_index]\n",
    "\n",
    "        distances, indices = nbrs.kneighbors([Rk])\n",
    "        nearest_indices = indices[0]\n",
    "        \n",
    "       \n",
    "        H = None\n",
    "        M = None\n",
    "        \n",
    "        for index in nearest_indices:\n",
    "            if y[index] == label_Rk:\n",
    "                H = X[index]\n",
    "                break\n",
    "\n",
    "        for index in nearest_indices:\n",
    "            if y[index] != label_Rk:\n",
    "                M = X[index]\n",
    "                break\n",
    "\n",
    "        if H is None or M is None:\n",
    "            continue  \n",
    "\n",
    "        for A in range(d):\n",
    "            diff_H = Rk[A] - H[A]  \n",
    "            diff_M = Rk[A] - M[A]  \n",
    "            W[A] -= diff_H / m\n",
    "            W[A] += diff_M / m\n",
    "\n",
    "    return W\n",
    "\n",
    "m = 100  \n",
    "weights = calculate_feature_weights(cardio_data, m)\n",
    "\n",
    "print(\"Feature Weights:\", weights)"
   ]
  },
  {
   "cell_type": "code",
   "execution_count": 91,
   "id": "d16d1fc8",
   "metadata": {},
   "outputs": [
    {
     "name": "stdout",
     "output_type": "stream",
     "text": [
      "age            int32\n",
      "gender         int32\n",
      "ap_hi          int32\n",
      "ap_lo          int32\n",
      "cholesterol    int32\n",
      "glucose        int32\n",
      "smoke          int32\n",
      "alcohol        int32\n",
      "active         int32\n",
      "cardio         int32\n",
      "BMI            int32\n",
      "dtype: object\n"
     ]
    }
   ],
   "source": [
    "cardio_data = cardio_data.astype({'age': 'int',\n",
    "                                   'gender': 'int',\n",
    "                                   'ap_hi': 'int',\n",
    "                                   'ap_lo': 'int',\n",
    "                                   'cholesterol': 'int',\n",
    "                                   'smoke': 'int',\n",
    "                                   'glucose': 'int',\n",
    "                                   'alcohol': 'int',\n",
    "                                   'active': 'int',\n",
    "                                   'BMI': 'int',\n",
    "                                   'cardio': 'int'})  \n",
    "\n",
    "print(cardio_data.dtypes)"
   ]
  },
  {
   "cell_type": "code",
   "execution_count": 92,
   "id": "d7caed32",
   "metadata": {},
   "outputs": [
    {
     "name": "stdout",
     "output_type": "stream",
     "text": [
      "cardio\n",
      "0    35209\n",
      "1    35085\n",
      "Name: count, dtype: int64\n",
      "int32\n"
     ]
    }
   ],
   "source": [
    "print(cardio_data[target].value_counts())\n",
    "print(cardio_data[target].dtype)\n"
   ]
  },
  {
   "cell_type": "code",
   "execution_count": 93,
   "id": "341c76d4",
   "metadata": {},
   "outputs": [],
   "source": [
    "cardio_data[target] = cardio_data[target].astype(int)"
   ]
  },
  {
   "cell_type": "code",
   "execution_count": 94,
   "id": "14d58453",
   "metadata": {},
   "outputs": [
    {
     "name": "stdout",
     "output_type": "stream",
     "text": [
      "Feature set shape: (70294, 10)\n",
      "Target shape: (70294,)\n",
      "Unique target values: [0 1]\n"
     ]
    }
   ],
   "source": [
    "X = cardio_data[features]\n",
    "y = cardio_data[target]\n",
    "\n",
    "print(\"Feature set shape:\", X.shape)\n",
    "print(\"Target shape:\", y.shape)\n",
    "print(\"Unique target values:\", y.unique())\n"
   ]
  },
  {
   "cell_type": "markdown",
   "id": "93a98a4a",
   "metadata": {},
   "source": [
    "#### mRMR feature selection"
   ]
  },
  {
   "cell_type": "code",
   "execution_count": 95,
   "id": "12a9be86",
   "metadata": {},
   "outputs": [
    {
     "name": "stdout",
     "output_type": "stream",
     "text": [
      "Selected Features using mRMR: ['ap_hi', 'age', 'alcohol', 'gender', 'smoke']\n"
     ]
    }
   ],
   "source": [
    "import pandas as pd\n",
    "from sklearn.feature_selection import mutual_info_classif\n",
    "import numpy as np\n",
    "\n",
    "def mutual_info_score(X, y):\n",
    "    return mutual_info_classif(X, y, discrete_features=True)\n",
    "\n",
    "def mrmr_selection(data, target, num_features):\n",
    "   \n",
    "    \n",
    "    X = data.drop(columns=[target])\n",
    "    y = data[target]\n",
    "    \n",
    "    relevance = mutual_info_score(X.values, y.values)\n",
    "    \n",
    "    selected_features = []\n",
    "    mrmr_values = {}\n",
    "\n",
    "    for feature in X.columns:\n",
    "        mrmr_values[feature] = relevance[X.columns.get_loc(feature)]\n",
    "\n",
    "    while len(selected_features) < num_features:\n",
    "        max_mrmr_feature = max(mrmr_values, key=lambda x: mrmr_values[x])\n",
    "        selected_features.append(max_mrmr_feature)\n",
    "        \n",
    "        del mrmr_values[max_mrmr_feature]\n",
    "        \n",
    "        for feature in mrmr_values.keys():\n",
    "            redundancy = mutual_info_classif(X[[max_mrmr_feature, feature]].values, y.values, discrete_features=True)[1]\n",
    "            mrmr_values[feature] -= redundancy\n",
    "\n",
    "    return selected_features\n",
    "\n",
    "features = ['age', 'gender', 'ap_hi', 'ap_lo', 'cholesterol', 'smoke', 'glucose', 'alcohol', 'active', 'BMI']\n",
    "target = 'cardio'\n",
    "\n",
    "selected_features = mrmr_selection(cardio_data[features + [target]], target, num_features=5)\n",
    "\n",
    "print(\"Selected Features using mRMR:\", selected_features)\n"
   ]
  },
  {
   "cell_type": "markdown",
   "id": "94ce956b",
   "metadata": {},
   "source": [
    "#### custom FCMIM algorithm in reference to research paper"
   ]
  },
  {
   "cell_type": "code",
   "execution_count": 96,
   "id": "2b67bc05",
   "metadata": {},
   "outputs": [
    {
     "name": "stdout",
     "output_type": "stream",
     "text": [
      "Selected Features: ['age', 'ap_hi', 'glucose', 'ap_lo', 'gender', 'active', 'BMI', 'smoke', 'cholesterol']\n"
     ]
    }
   ],
   "source": [
    "import pandas as pd\n",
    "import numpy as np\n",
    "from sklearn.feature_selection import mutual_info_classif\n",
    "from sklearn.preprocessing import LabelEncoder\n",
    "\n",
    "def preprocess_data(data, target):\n",
    "    data = data.dropna(subset=[target])\n",
    "    data[target] = data[target].astype(int)\n",
    "\n",
    "    for col in data.select_dtypes(include=['object']).columns:\n",
    "        le = LabelEncoder()\n",
    "        data[col] = le.fit_transform(data[col])\n",
    "\n",
    "    return data\n",
    "\n",
    "def compute_mutual_info(X, y):\n",
    "    return mutual_info_classif(X, y, discrete_features=True)\n",
    "\n",
    "def feature_selection(data, target, K):\n",
    "    data = preprocess_data(data, target)\n",
    "\n",
    "    X = data.drop(columns=[target])\n",
    "    y = data[target]\n",
    "\n",
    "    selected_features = set()  \n",
    "    feature_names = X.columns.tolist()\n",
    "\n",
    "    Mi = compute_mutual_info(X, y)\n",
    "    pi = Mi.copy()\n",
    "    Li = np.zeros(len(feature_names))\n",
    "\n",
    "    for k in range(K):\n",
    "        score_k = 0\n",
    "        for i, feature in enumerate(feature_names):\n",
    "            if feature in selected_features:\n",
    "                continue\n",
    "\n",
    "            while pi[i] > score_k and Li[i] < k - 1:\n",
    "                Li[i] += 1\n",
    "                CMI = np.mean(Mi)  \n",
    "                pi[i] = min(pi[i], CMI)  \n",
    "            \n",
    "            \n",
    "            if pi[i] > score_k:\n",
    "                score_k = pi[i]\n",
    "                selected_features.add(feature)  \n",
    "\n",
    "    return list(selected_features)\n",
    "\n",
    "target = 'cardio' \n",
    "K = 5  \n",
    "\n",
    "selected_features = feature_selection(cardio_data, target, K)\n",
    "\n",
    "print(\"Selected Features:\", selected_features)\n"
   ]
  },
  {
   "cell_type": "markdown",
   "id": "0bae04f7",
   "metadata": {},
   "source": [
    "#### using RandomForestClassifier and feature selection using FCMIM (customized)"
   ]
  },
  {
   "cell_type": "code",
   "execution_count": 97,
   "id": "142d11f7",
   "metadata": {},
   "outputs": [
    {
     "name": "stdout",
     "output_type": "stream",
     "text": [
      "Selected Features: ['BMI', 'cholesterol', 'ap_lo', 'age', 'ap_hi']\n",
      "Accuracy: 0.6733764848139981\n",
      "Confusion Matrix:\n",
      " [[4678 2321]\n",
      " [2271 4789]]\n",
      "Classification Report:\n",
      "               precision    recall  f1-score   support\n",
      "\n",
      "           0       0.67      0.67      0.67      6999\n",
      "           1       0.67      0.68      0.68      7060\n",
      "\n",
      "    accuracy                           0.67     14059\n",
      "   macro avg       0.67      0.67      0.67     14059\n",
      "weighted avg       0.67      0.67      0.67     14059\n",
      "\n"
     ]
    }
   ],
   "source": [
    "import pandas as pd\n",
    "import numpy as np\n",
    "from sklearn.model_selection import train_test_split\n",
    "from sklearn.ensemble import RandomForestClassifier\n",
    "from sklearn.metrics import accuracy_score, confusion_matrix, classification_report\n",
    "from sklearn.preprocessing import LabelEncoder\n",
    "from sklearn.feature_selection import mutual_info_classif\n",
    "\n",
    "def preprocess_data(data, target):\n",
    "    data = data.dropna(subset=[target])\n",
    "    data[target] = data[target].astype(int)\n",
    "\n",
    "    for col in data.select_dtypes(include=['object']).columns:\n",
    "        le = LabelEncoder()\n",
    "        data[col] = le.fit_transform(data[col])\n",
    "\n",
    "    return data\n",
    "\n",
    "def compute_mutual_info(X, y):\n",
    "    return mutual_info_classif(X, y, discrete_features=True)\n",
    "\n",
    "def feature_selection(data, target, num_features):\n",
    "    X = data.drop(columns=[target])\n",
    "    y = data[target]\n",
    "\n",
    "    mi_scores = compute_mutual_info(X, y)\n",
    "\n",
    "    top_features = np.argsort(mi_scores)[-num_features:]\n",
    "\n",
    "    return X.columns[top_features].tolist()\n",
    "\n",
    "def train_classifier(X_train, y_train):\n",
    "    model = RandomForestClassifier(n_estimators=100, random_state=42)\n",
    "    model.fit(X_train, y_train)\n",
    "    return model\n",
    "\n",
    "def validate_classifier(model, X_test, y_test):\n",
    "    y_pred = model.predict(X_test)\n",
    "    \n",
    "    accuracy = accuracy_score(y_test, y_pred)\n",
    "    conf_matrix = confusion_matrix(y_test, y_pred)\n",
    "    class_report = classification_report(y_test, y_pred)\n",
    "\n",
    "    return accuracy, conf_matrix, class_report\n",
    "\n",
    "def main(data, target='cardio', num_features=5):\n",
    "    processed_data = preprocess_data(data, target)\n",
    "\n",
    "    selected_features = feature_selection(processed_data, target, num_features)\n",
    "    print(\"Selected Features:\", selected_features)\n",
    "\n",
    "    X = processed_data[selected_features]\n",
    "    y = processed_data[target]\n",
    "\n",
    "    X_train, X_test, y_train, y_test = train_test_split(X, y, test_size=0.2, random_state=42)\n",
    "\n",
    "    model = train_classifier(X_train, y_train)\n",
    "\n",
    "    accuracy, conf_matrix, class_report = validate_classifier(model, X_test, y_test)\n",
    "\n",
    "    print(\"Accuracy:\", accuracy)\n",
    "    print(\"Confusion Matrix:\\n\", conf_matrix)\n",
    "    print(\"Classification Report:\\n\", class_report)\n",
    "\n",
    "\n",
    "main(cardio_data, target='cardio', num_features=5)"
   ]
  },
  {
   "cell_type": "code",
   "execution_count": 98,
   "id": "586394ac",
   "metadata": {},
   "outputs": [
    {
     "name": "stdout",
     "output_type": "stream",
     "text": [
      "Fitting 5 folds for each of 216 candidates, totalling 1080 fits\n",
      "Best Parameters: {'max_depth': 10, 'max_features': 'sqrt', 'min_samples_leaf': 2, 'min_samples_split': 10, 'n_estimators': 200}\n",
      "Best Cross-Validation Score: 0.735087897571385\n"
     ]
    }
   ],
   "source": [
    "from sklearn.ensemble import RandomForestClassifier\n",
    "from sklearn.model_selection import GridSearchCV\n",
    "\n",
    "model = RandomForestClassifier(random_state=42)\n",
    "\n",
    "param_grid = {\n",
    "    'n_estimators': [50, 100, 200],\n",
    "    'max_depth': [None, 10, 20, 30],\n",
    "    'min_samples_split': [2, 5, 10],\n",
    "    'min_samples_leaf': [1, 2, 4],\n",
    "    'max_features': ['sqrt', 'log2']\n",
    "}\n",
    "\n",
    "grid_search = GridSearchCV(estimator=model, param_grid=param_grid, \n",
    "                           cv=5, scoring='accuracy', n_jobs=-1, verbose=2)\n",
    "\n",
    "grid_search.fit(X_train, y_train)\n",
    "\n",
    "print(\"Best Parameters:\", grid_search.best_params_)\n",
    "print(\"Best Cross-Validation Score:\", grid_search.best_score_)\n"
   ]
  },
  {
   "cell_type": "markdown",
   "id": "62a817ef",
   "metadata": {},
   "source": [
    "#### using ExtraTreesClassifier and feature selection using FCMIM (customized)"
   ]
  },
  {
   "cell_type": "code",
   "execution_count": 99,
   "id": "cb4eb3a4",
   "metadata": {},
   "outputs": [
    {
     "name": "stdout",
     "output_type": "stream",
     "text": [
      "Fitting 5 folds for each of 216 candidates, totalling 1080 fits\n",
      "Best Parameters: {'max_depth': 30, 'max_features': 'sqrt', 'min_samples_leaf': 1, 'min_samples_split': 10, 'n_estimators': 100}\n",
      "Best Cross-Validation Score: 0.7278731836195508\n",
      "Accuracy: 0.7297\n",
      "Confusion Matrix:\n",
      " [[7914 2547]\n",
      " [3153 7475]]\n",
      "Classification Report:\n",
      "               precision    recall  f1-score   support\n",
      "\n",
      "           0       0.72      0.76      0.74     10461\n",
      "           1       0.75      0.70      0.72     10628\n",
      "\n",
      "    accuracy                           0.73     21089\n",
      "   macro avg       0.73      0.73      0.73     21089\n",
      "weighted avg       0.73      0.73      0.73     21089\n",
      "\n"
     ]
    }
   ],
   "source": [
    "import numpy as np\n",
    "import pandas as pd\n",
    "from sklearn.ensemble import ExtraTreesClassifier\n",
    "from sklearn.model_selection import train_test_split, GridSearchCV\n",
    "from sklearn.metrics import classification_report, accuracy_score, confusion_matrix\n",
    "\n",
    "features = ['age', 'gender', 'ap_hi', 'ap_lo', 'cholesterol', 'smoke', 'glucose', 'alcohol', 'active', 'BMI']\n",
    "target = 'cardio'\n",
    "\n",
    "if cardio_data[target].isnull().any():\n",
    "    print(\"Warning: NaN values found in the target variable. Dropping NaNs.\")\n",
    "    cardio_data = cardio_data.dropna(subset=[target])\n",
    "\n",
    "cardio_data[target] = cardio_data[target].astype(int)\n",
    "\n",
    "X_train, X_test, y_train, y_test = train_test_split(cardio_data[features], cardio_data[target], test_size=0.3, random_state=42)\n",
    "\n",
    "extra_trees = ExtraTreesClassifier(random_state=42)\n",
    "\n",
    "param_grid = {\n",
    "    'n_estimators': [50, 100, 200],\n",
    "    'max_depth': [None, 10, 20, 30],\n",
    "    'min_samples_split': [2, 5, 10],\n",
    "    'min_samples_leaf': [1, 2, 4],\n",
    "    'max_features': ['sqrt', 'log2']\n",
    "}\n",
    "\n",
    "grid_search = GridSearchCV(estimator=extra_trees, param_grid=param_grid, cv=5, scoring='accuracy', n_jobs=-1, verbose=2)\n",
    "\n",
    "grid_search.fit(X_train, y_train)\n",
    "\n",
    "best_extra_trees = grid_search.best_estimator_\n",
    "\n",
    "y_pred = best_extra_trees.predict(X_test)\n",
    "\n",
    "accuracy = accuracy_score(y_test, y_pred)\n",
    "confusion = confusion_matrix(y_test, y_pred)\n",
    "report = classification_report(y_test, y_pred)\n",
    "\n",
    "print(\"Best Parameters:\", grid_search.best_params_)\n",
    "print(\"Best Cross-Validation Score:\", grid_search.best_score_)\n",
    "print(f\"Accuracy: {accuracy:.4f}\")\n",
    "print(\"Confusion Matrix:\\n\", confusion)\n",
    "print(\"Classification Report:\\n\", report)\n"
   ]
  }
 ],
 "metadata": {
  "kernelspec": {
   "display_name": "Python 3 (ipykernel)",
   "language": "python",
   "name": "python3"
  },
  "language_info": {
   "codemirror_mode": {
    "name": "ipython",
    "version": 3
   },
   "file_extension": ".py",
   "mimetype": "text/x-python",
   "name": "python",
   "nbconvert_exporter": "python",
   "pygments_lexer": "ipython3",
   "version": "3.11.7"
  }
 },
 "nbformat": 4,
 "nbformat_minor": 5
}
